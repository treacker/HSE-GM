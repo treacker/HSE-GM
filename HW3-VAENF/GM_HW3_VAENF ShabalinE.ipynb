{
  "nbformat": 4,
  "nbformat_minor": 0,
  "metadata": {
    "accelerator": "GPU",
    "colab": {
      "name": "GM HW3-VAENF.ipynb",
      "provenance": [],
      "collapsed_sections": [],
      "toc_visible": true
    },
    "kernelspec": {
      "display_name": "Python 3",
      "language": "python",
      "name": "python3"
    },
    "language_info": {
      "codemirror_mode": {
        "name": "ipython",
        "version": 3
      },
      "file_extension": ".py",
      "mimetype": "text/x-python",
      "name": "python",
      "nbconvert_exporter": "python",
      "pygments_lexer": "ipython3",
      "version": "3.8.3"
    },
    "widgets": {
      "application/vnd.jupyter.widget-state+json": {
        "c4740cd1ba714c319c856f2740f5af86": {
          "model_module": "@jupyter-widgets/controls",
          "model_name": "HBoxModel",
          "state": {
            "_view_name": "HBoxView",
            "_dom_classes": [],
            "_model_name": "HBoxModel",
            "_view_module": "@jupyter-widgets/controls",
            "_model_module_version": "1.5.0",
            "_view_count": null,
            "_view_module_version": "1.5.0",
            "box_style": "",
            "layout": "IPY_MODEL_41c7f347fd4245a7a7abe8d186919db1",
            "_model_module": "@jupyter-widgets/controls",
            "children": [
              "IPY_MODEL_08068696453e42749ea08bd15244ec06",
              "IPY_MODEL_eb522a9459134f8db9a4ee364b370945"
            ]
          }
        },
        "41c7f347fd4245a7a7abe8d186919db1": {
          "model_module": "@jupyter-widgets/base",
          "model_name": "LayoutModel",
          "state": {
            "_view_name": "LayoutView",
            "grid_template_rows": null,
            "right": null,
            "justify_content": null,
            "_view_module": "@jupyter-widgets/base",
            "overflow": null,
            "_model_module_version": "1.2.0",
            "_view_count": null,
            "flex_flow": null,
            "width": null,
            "min_width": null,
            "border": null,
            "align_items": null,
            "bottom": null,
            "_model_module": "@jupyter-widgets/base",
            "top": null,
            "grid_column": null,
            "overflow_y": null,
            "overflow_x": null,
            "grid_auto_flow": null,
            "grid_area": null,
            "grid_template_columns": null,
            "flex": null,
            "_model_name": "LayoutModel",
            "justify_items": null,
            "grid_row": null,
            "max_height": null,
            "align_content": null,
            "visibility": null,
            "align_self": null,
            "height": null,
            "min_height": null,
            "padding": null,
            "grid_auto_rows": null,
            "grid_gap": null,
            "max_width": null,
            "order": null,
            "_view_module_version": "1.2.0",
            "grid_template_areas": null,
            "object_position": null,
            "object_fit": null,
            "grid_auto_columns": null,
            "margin": null,
            "display": null,
            "left": null
          }
        },
        "08068696453e42749ea08bd15244ec06": {
          "model_module": "@jupyter-widgets/controls",
          "model_name": "FloatProgressModel",
          "state": {
            "_view_name": "ProgressView",
            "style": "IPY_MODEL_34e059cd1b0c4cd08c108b36d4c13346",
            "_dom_classes": [],
            "description": "100%",
            "_model_name": "FloatProgressModel",
            "bar_style": "success",
            "max": 95628359,
            "_view_module": "@jupyter-widgets/controls",
            "_model_module_version": "1.5.0",
            "value": 95628359,
            "_view_count": null,
            "_view_module_version": "1.5.0",
            "orientation": "horizontal",
            "min": 0,
            "description_tooltip": null,
            "_model_module": "@jupyter-widgets/controls",
            "layout": "IPY_MODEL_dfc5ae9c57ac4795b17d2a15eff565db"
          }
        },
        "eb522a9459134f8db9a4ee364b370945": {
          "model_module": "@jupyter-widgets/controls",
          "model_name": "HTMLModel",
          "state": {
            "_view_name": "HTMLView",
            "style": "IPY_MODEL_f41c88722cab47a1a15160075d587fd3",
            "_dom_classes": [],
            "description": "",
            "_model_name": "HTMLModel",
            "placeholder": "​",
            "_view_module": "@jupyter-widgets/controls",
            "_model_module_version": "1.5.0",
            "value": " 91.2M/91.2M [21:00&lt;00:00, 75.9kB/s]",
            "_view_count": null,
            "_view_module_version": "1.5.0",
            "description_tooltip": null,
            "_model_module": "@jupyter-widgets/controls",
            "layout": "IPY_MODEL_34c4c1c513db4a8792101d2a40e64b49"
          }
        },
        "34e059cd1b0c4cd08c108b36d4c13346": {
          "model_module": "@jupyter-widgets/controls",
          "model_name": "ProgressStyleModel",
          "state": {
            "_view_name": "StyleView",
            "_model_name": "ProgressStyleModel",
            "description_width": "initial",
            "_view_module": "@jupyter-widgets/base",
            "_model_module_version": "1.5.0",
            "_view_count": null,
            "_view_module_version": "1.2.0",
            "bar_color": null,
            "_model_module": "@jupyter-widgets/controls"
          }
        },
        "dfc5ae9c57ac4795b17d2a15eff565db": {
          "model_module": "@jupyter-widgets/base",
          "model_name": "LayoutModel",
          "state": {
            "_view_name": "LayoutView",
            "grid_template_rows": null,
            "right": null,
            "justify_content": null,
            "_view_module": "@jupyter-widgets/base",
            "overflow": null,
            "_model_module_version": "1.2.0",
            "_view_count": null,
            "flex_flow": null,
            "width": null,
            "min_width": null,
            "border": null,
            "align_items": null,
            "bottom": null,
            "_model_module": "@jupyter-widgets/base",
            "top": null,
            "grid_column": null,
            "overflow_y": null,
            "overflow_x": null,
            "grid_auto_flow": null,
            "grid_area": null,
            "grid_template_columns": null,
            "flex": null,
            "_model_name": "LayoutModel",
            "justify_items": null,
            "grid_row": null,
            "max_height": null,
            "align_content": null,
            "visibility": null,
            "align_self": null,
            "height": null,
            "min_height": null,
            "padding": null,
            "grid_auto_rows": null,
            "grid_gap": null,
            "max_width": null,
            "order": null,
            "_view_module_version": "1.2.0",
            "grid_template_areas": null,
            "object_position": null,
            "object_fit": null,
            "grid_auto_columns": null,
            "margin": null,
            "display": null,
            "left": null
          }
        },
        "f41c88722cab47a1a15160075d587fd3": {
          "model_module": "@jupyter-widgets/controls",
          "model_name": "DescriptionStyleModel",
          "state": {
            "_view_name": "StyleView",
            "_model_name": "DescriptionStyleModel",
            "description_width": "",
            "_view_module": "@jupyter-widgets/base",
            "_model_module_version": "1.5.0",
            "_view_count": null,
            "_view_module_version": "1.2.0",
            "_model_module": "@jupyter-widgets/controls"
          }
        },
        "34c4c1c513db4a8792101d2a40e64b49": {
          "model_module": "@jupyter-widgets/base",
          "model_name": "LayoutModel",
          "state": {
            "_view_name": "LayoutView",
            "grid_template_rows": null,
            "right": null,
            "justify_content": null,
            "_view_module": "@jupyter-widgets/base",
            "overflow": null,
            "_model_module_version": "1.2.0",
            "_view_count": null,
            "flex_flow": null,
            "width": null,
            "min_width": null,
            "border": null,
            "align_items": null,
            "bottom": null,
            "_model_module": "@jupyter-widgets/base",
            "top": null,
            "grid_column": null,
            "overflow_y": null,
            "overflow_x": null,
            "grid_auto_flow": null,
            "grid_area": null,
            "grid_template_columns": null,
            "flex": null,
            "_model_name": "LayoutModel",
            "justify_items": null,
            "grid_row": null,
            "max_height": null,
            "align_content": null,
            "visibility": null,
            "align_self": null,
            "height": null,
            "min_height": null,
            "padding": null,
            "grid_auto_rows": null,
            "grid_gap": null,
            "max_width": null,
            "order": null,
            "_view_module_version": "1.2.0",
            "grid_template_areas": null,
            "object_position": null,
            "object_fit": null,
            "grid_auto_columns": null,
            "margin": null,
            "display": null,
            "left": null
          }
        },
        "054284e89d154297b2e92d6734dda205": {
          "model_module": "@jupyter-widgets/controls",
          "model_name": "VBoxModel",
          "state": {
            "_view_name": "VBoxView",
            "_dom_classes": [],
            "_model_name": "VBoxModel",
            "_view_module": "@jupyter-widgets/controls",
            "_model_module_version": "1.5.0",
            "_view_count": null,
            "_view_module_version": "1.5.0",
            "box_style": "",
            "layout": "IPY_MODEL_d9719fefb6b2473ea01256ee0bc60ea5",
            "_model_module": "@jupyter-widgets/controls",
            "children": [
              "IPY_MODEL_7c8071a063754aaebf43cc883d2277e1",
              "IPY_MODEL_208a42bc24d5454ca5a39ac71b5e6c8a"
            ]
          }
        },
        "d9719fefb6b2473ea01256ee0bc60ea5": {
          "model_module": "@jupyter-widgets/base",
          "model_name": "LayoutModel",
          "state": {
            "_view_name": "LayoutView",
            "grid_template_rows": null,
            "right": null,
            "justify_content": null,
            "_view_module": "@jupyter-widgets/base",
            "overflow": null,
            "_model_module_version": "1.2.0",
            "_view_count": null,
            "flex_flow": null,
            "width": null,
            "min_width": null,
            "border": null,
            "align_items": null,
            "bottom": null,
            "_model_module": "@jupyter-widgets/base",
            "top": null,
            "grid_column": null,
            "overflow_y": null,
            "overflow_x": null,
            "grid_auto_flow": null,
            "grid_area": null,
            "grid_template_columns": null,
            "flex": null,
            "_model_name": "LayoutModel",
            "justify_items": null,
            "grid_row": null,
            "max_height": null,
            "align_content": null,
            "visibility": null,
            "align_self": null,
            "height": null,
            "min_height": null,
            "padding": null,
            "grid_auto_rows": null,
            "grid_gap": null,
            "max_width": null,
            "order": null,
            "_view_module_version": "1.2.0",
            "grid_template_areas": null,
            "object_position": null,
            "object_fit": null,
            "grid_auto_columns": null,
            "margin": null,
            "display": null,
            "left": null
          }
        },
        "7c8071a063754aaebf43cc883d2277e1": {
          "model_module": "@jupyter-widgets/controls",
          "model_name": "LabelModel",
          "state": {
            "_view_name": "LabelView",
            "style": "IPY_MODEL_11e950bcedc44fcb94ca324f087662db",
            "_dom_classes": [],
            "description": "",
            "_model_name": "LabelModel",
            "placeholder": "​",
            "_view_module": "@jupyter-widgets/controls",
            "_model_module_version": "1.5.0",
            "value": " 0.59MB of 0.59MB uploaded (0.00MB deduped)\r",
            "_view_count": null,
            "_view_module_version": "1.5.0",
            "description_tooltip": null,
            "_model_module": "@jupyter-widgets/controls",
            "layout": "IPY_MODEL_d90e5b43bbfb4434b8e4131bd1532f96"
          }
        },
        "208a42bc24d5454ca5a39ac71b5e6c8a": {
          "model_module": "@jupyter-widgets/controls",
          "model_name": "FloatProgressModel",
          "state": {
            "_view_name": "ProgressView",
            "style": "IPY_MODEL_5cc9f488fb1144c094b699049a653d17",
            "_dom_classes": [],
            "description": "",
            "_model_name": "FloatProgressModel",
            "bar_style": "",
            "max": 1,
            "_view_module": "@jupyter-widgets/controls",
            "_model_module_version": "1.5.0",
            "value": 1,
            "_view_count": null,
            "_view_module_version": "1.5.0",
            "orientation": "horizontal",
            "min": 0,
            "description_tooltip": null,
            "_model_module": "@jupyter-widgets/controls",
            "layout": "IPY_MODEL_116a3f28d2df4137a4f3afe77898fdf7"
          }
        },
        "11e950bcedc44fcb94ca324f087662db": {
          "model_module": "@jupyter-widgets/controls",
          "model_name": "DescriptionStyleModel",
          "state": {
            "_view_name": "StyleView",
            "_model_name": "DescriptionStyleModel",
            "description_width": "",
            "_view_module": "@jupyter-widgets/base",
            "_model_module_version": "1.5.0",
            "_view_count": null,
            "_view_module_version": "1.2.0",
            "_model_module": "@jupyter-widgets/controls"
          }
        },
        "d90e5b43bbfb4434b8e4131bd1532f96": {
          "model_module": "@jupyter-widgets/base",
          "model_name": "LayoutModel",
          "state": {
            "_view_name": "LayoutView",
            "grid_template_rows": null,
            "right": null,
            "justify_content": null,
            "_view_module": "@jupyter-widgets/base",
            "overflow": null,
            "_model_module_version": "1.2.0",
            "_view_count": null,
            "flex_flow": null,
            "width": null,
            "min_width": null,
            "border": null,
            "align_items": null,
            "bottom": null,
            "_model_module": "@jupyter-widgets/base",
            "top": null,
            "grid_column": null,
            "overflow_y": null,
            "overflow_x": null,
            "grid_auto_flow": null,
            "grid_area": null,
            "grid_template_columns": null,
            "flex": null,
            "_model_name": "LayoutModel",
            "justify_items": null,
            "grid_row": null,
            "max_height": null,
            "align_content": null,
            "visibility": null,
            "align_self": null,
            "height": null,
            "min_height": null,
            "padding": null,
            "grid_auto_rows": null,
            "grid_gap": null,
            "max_width": null,
            "order": null,
            "_view_module_version": "1.2.0",
            "grid_template_areas": null,
            "object_position": null,
            "object_fit": null,
            "grid_auto_columns": null,
            "margin": null,
            "display": null,
            "left": null
          }
        },
        "5cc9f488fb1144c094b699049a653d17": {
          "model_module": "@jupyter-widgets/controls",
          "model_name": "ProgressStyleModel",
          "state": {
            "_view_name": "StyleView",
            "_model_name": "ProgressStyleModel",
            "description_width": "",
            "_view_module": "@jupyter-widgets/base",
            "_model_module_version": "1.5.0",
            "_view_count": null,
            "_view_module_version": "1.2.0",
            "bar_color": null,
            "_model_module": "@jupyter-widgets/controls"
          }
        },
        "116a3f28d2df4137a4f3afe77898fdf7": {
          "model_module": "@jupyter-widgets/base",
          "model_name": "LayoutModel",
          "state": {
            "_view_name": "LayoutView",
            "grid_template_rows": null,
            "right": null,
            "justify_content": null,
            "_view_module": "@jupyter-widgets/base",
            "overflow": null,
            "_model_module_version": "1.2.0",
            "_view_count": null,
            "flex_flow": null,
            "width": null,
            "min_width": null,
            "border": null,
            "align_items": null,
            "bottom": null,
            "_model_module": "@jupyter-widgets/base",
            "top": null,
            "grid_column": null,
            "overflow_y": null,
            "overflow_x": null,
            "grid_auto_flow": null,
            "grid_area": null,
            "grid_template_columns": null,
            "flex": null,
            "_model_name": "LayoutModel",
            "justify_items": null,
            "grid_row": null,
            "max_height": null,
            "align_content": null,
            "visibility": null,
            "align_self": null,
            "height": null,
            "min_height": null,
            "padding": null,
            "grid_auto_rows": null,
            "grid_gap": null,
            "max_width": null,
            "order": null,
            "_view_module_version": "1.2.0",
            "grid_template_areas": null,
            "object_position": null,
            "object_fit": null,
            "grid_auto_columns": null,
            "margin": null,
            "display": null,
            "left": null
          }
        }
      }
    }
  },
  "cells": [
    {
      "cell_type": "markdown",
      "metadata": {
        "id": "kip03UtIvKnT"
      },
      "source": [
        "### Важно:\n",
        "Пожалуйста, поддерживайте ваш код в хорошем состоянии, пишите комментарии, убирайте бесполезные ячейки, пишите модели в специально отведенных модулях. Проверяющие могут **НА СВОЕ УСМОТРЕНИЕ** снижать баллы за:\n",
        "\n",
        "1. Говнокод\n",
        "2. Неэффективные решения\n",
        "3. Вермишель из ячеек в тетрадке\n",
        "4. Все остальное что им не понравилось\n",
        "\n",
        "#### (0 - 0.05 балла):\n",
        "\n",
        "За использование логгеров типа wandb/comet/neptune и красивую сборку этой домашки в виде графиков/картинок в этих логгерах мы будем выдавать бонусные баллы.\n",
        "\n",
        "Решением домашки является архив с использованными тетрадками/модулями, а так же **.pdf** файл с отчетом по проделанной работе по каждому пункту задачи. В нем необходимо описать какие эксперименты вы производили чтобы получить результат который вы получили, а так же обосновать почему вы решили использовать штуки которые вы использовали (например, дополнительные лоссы для стабилизации, разные виды потоков, разные хаки для вае)\n"
      ]
    },
    {
      "cell_type": "code",
      "metadata": {
        "id": "sPIHDBPavKnY"
      },
      "source": [
        "import os\n",
        "\n",
        "import torch\n",
        "import torch.nn as nn\n",
        "\n",
        "import torchvision\n",
        "import torchvision.transforms as transforms\n",
        "from torchvision.utils import make_grid\n",
        "\n",
        "import numpy as np\n",
        "import matplotlib.pyplot as plt\n",
        "%matplotlib inline\n",
        "\n",
        "from PIL import Image\n",
        "\n",
        "from tqdm.notebook import tqdm as tqdm\n",
        "\n",
        "\n",
        "%load_ext autoreload\n",
        "\n",
        "%autoreload 2\n",
        "\n",
        "! pip install wandb"
      ],
      "execution_count": null,
      "outputs": []
    },
    {
      "cell_type": "code",
      "metadata": {
        "id": "KfRD-fDP8rT8"
      },
      "source": [
        ""
      ],
      "execution_count": 1,
      "outputs": []
    },
    {
      "cell_type": "code",
      "metadata": {
        "colab": {
          "base_uri": "https://localhost:8080/"
        },
        "id": "lLBlRbVrARHH",
        "outputId": "8903dba6-8f4a-4808-8877-251bfd51801e"
      },
      "source": [
        "from google.colab import drive\n",
        "drive.mount('/content/drive')"
      ],
      "execution_count": 3,
      "outputs": [
        {
          "output_type": "stream",
          "text": [
            "Mounted at /content/drive\n"
          ],
          "name": "stdout"
        }
      ]
    },
    {
      "cell_type": "code",
      "metadata": {
        "colab": {
          "base_uri": "https://localhost:8080/"
        },
        "id": "alXr98Z5ARJo",
        "outputId": "c6930ad5-02d4-4fd5-82f7-148ef09bc025"
      },
      "source": [
        "! gdown --id 1F96x4LDbsTZGMMq81fZr7aduJCe8N95O\n",
        "\n",
        "import zipfile\n",
        "\n",
        "path_to_zip = \"/content/celeba.zip\"\n",
        "\n",
        "\n",
        "with zipfile.ZipFile(path_to_zip, 'r') as file:\n",
        "    file.extractall(path='/content')"
      ],
      "execution_count": 4,
      "outputs": [
        {
          "output_type": "stream",
          "text": [
            "Downloading...\n",
            "From: https://drive.google.com/uc?id=1F96x4LDbsTZGMMq81fZr7aduJCe8N95O\n",
            "To: /content/celeba.zip\n",
            "2.73GB [00:37, 73.6MB/s]\n"
          ],
          "name": "stdout"
        }
      ]
    },
    {
      "cell_type": "code",
      "metadata": {
        "id": "DG4xDjeNvKnZ"
      },
      "source": [
        "device = 'cuda' if torch.cuda.is_available() else 'cpu'\n",
        "\n",
        "size = 32\n",
        "celeba_transforms = transforms.Compose([\n",
        "    transforms.Resize((size, size)),\n",
        "    transforms.ToTensor(),\n",
        "    transforms.Normalize([0.5, 0.5, 0.5], [0.5, 0.5, 0.5])\n",
        "])\n",
        "    \n",
        "\n"
      ],
      "execution_count": 15,
      "outputs": []
    },
    {
      "cell_type": "code",
      "metadata": {
        "id": "sBUOoTYZANUJ"
      },
      "source": [
        "\n",
        "celeba = torchvision.datasets.CelebA('/content/celeba',\n",
        "                                           transform=celeba_transforms,\n",
        "                                           download=False)\n",
        "\n",
        "n = len(celeba)\n",
        "t = int(n * 0.95)\n",
        "train_set, val_set = torch.utils.data.random_split(celeba, [t, n - t])\n",
        "\n",
        "b_s = 16\n",
        "\n",
        "dataloader = torch.utils.data.DataLoader(train_set, b_s, shuffle=True)\n",
        "val_dataloader = torch.utils.data.DataLoader(val_set, 1, shuffle=False)"
      ],
      "execution_count": 16,
      "outputs": []
    },
    {
      "cell_type": "markdown",
      "metadata": {
        "id": "d5yGXPcevKna"
      },
      "source": [
        "В этой домашней работе вам предлагается повторить результаты статьи VAE+NF (https://arxiv.org/pdf/1611.05209.pdf).\n",
        "\n",
        "Основная часть домашнего задания - чтение статьи и повторение результатов, поэтому обязательно прочитайте не только ее, но и другие основные статьи про потоки того времени:\n",
        "\n",
        "1. https://arxiv.org/abs/1505.05770\n",
        "2. https://arxiv.org/abs/1605.08803\n",
        "3. https://arxiv.org/abs/1705.07057\n",
        "4. http://arxiv.org/abs/1807.03039\n",
        "\n",
        "\n"
      ]
    },
    {
      "cell_type": "markdown",
      "metadata": {
        "id": "NeuaT2fDvKnb"
      },
      "source": [
        "### Задача 1 (0.1 балла, но если не сделаете, за всю домашку ноль):\n",
        "\n",
        "Для начала предлагаю попробовать обучить обычный VAE на Celeba до нормального качества, померить FID и запомнить для будущего сравнения\n"
      ]
    },
    {
      "cell_type": "code",
      "metadata": {
        "id": "UonU5S2Oc87F"
      },
      "source": [
        "import wandb\n",
        "\n",
        "project = 'GM HW3'"
      ],
      "execution_count": 7,
      "outputs": []
    },
    {
      "cell_type": "code",
      "metadata": {
        "id": "Yfw-xRWnXcqb"
      },
      "source": [
        ""
      ],
      "execution_count": null,
      "outputs": []
    },
    {
      "cell_type": "code",
      "metadata": {
        "id": "M3_BVLpjc_cj"
      },
      "source": [
        "# Simple function for wandb logging\n",
        "import random\n",
        "from calculate_fid import calculate_fid\n",
        "\n",
        "def generate_example(model, loader):\n",
        "    model.eval()\n",
        "\n",
        "    rand_index = random.randrange(len(loader.dataset))\n",
        "    image, label = loader.dataset[rand_index]\n",
        "    \n",
        "    device = model.device\n",
        "    image = image.to(device).unsqueeze(0)\n",
        "    \n",
        "    with torch.no_grad():\n",
        "        reconstructed_image = model.generate(image)[0]\n",
        "\n",
        "    image = image[0]\n",
        "    \n",
        "    image = ((image.permute(1, 2, 0) + 1) / 2).cpu().numpy()\n",
        "    reconstructed_image = ((reconstructed_image.permute(1, 2, 0) + 1) / 2).cpu().numpy()\n",
        "    \n",
        "\n",
        "    example = {'input image': wandb.Image(image),\n",
        "               'reconstructed image': wandb.Image(reconstructed_image)\n",
        "               }\n",
        "    \n",
        "    return example\n",
        "\n",
        "def train(image, model, optimizer):\n",
        "    model.train()\n",
        "\n",
        "    optimizer.zero_grad()\n",
        "\n",
        "    out, mu, logvar = model(image)\n",
        "    loss, rec_loss, kld = loss_function(out, image, mu, logvar)\n",
        "    \n",
        "    loss.backward()\n",
        "    optimizer.step()\n",
        "\n",
        "    return loss, rec_loss, kld\n",
        "\n",
        "\n",
        "def process_epoch(epoch, loader, model, optimizer):\n",
        "    losses = []\n",
        "    rec_losses = []\n",
        "    kld_losses = []\n",
        "    device = model.device\n",
        "    for i, (image, _) in tqdm(enumerate(loader), desc=f\"trainloop: {epoch}\", leave=False):\n",
        "        image = image.to(device)\n",
        "        \n",
        "        loss, rec, kld = train(image, model, optimizer)\n",
        "        losses.append(loss.item())\n",
        "        rec_losses.append(rec.item())\n",
        "        kld_losses.append(kld.item())\n",
        "        \n",
        "        if (i + 1) % 50 == 0:\n",
        "            example = generate_example(model, loader)\n",
        "            l = np.mean(losses)\n",
        "            rec_loss = np.mean(rec_losses)\n",
        "            kld_loss = np.mean(kld_losses)\n",
        "            losses = []\n",
        "            rec_losses = []\n",
        "            kld_losses = []\n",
        "                    \n",
        "            example.update({'loss': l / len(image),\n",
        "                            'rec loss': rec_loss / len(image),\n",
        "                            'KLD': kld_loss / len(image)\n",
        "                            })\n",
        "            \n",
        "            if (i + 1) % 2000 == 0:\n",
        "                fid = calculate_fid(val_dataloader, model, fid_model)\n",
        "\n",
        "                example.update({'FID': fid\n",
        "                                })\n",
        "\n",
        "            wandb.log(example)\n",
        "\n"
      ],
      "execution_count": null,
      "outputs": []
    },
    {
      "cell_type": "code",
      "metadata": {
        "id": "NcObteEic_ey"
      },
      "source": [
        "from model import VAE, loss_function\n",
        "\n",
        "model = VAE(device, hidden_dim=128)\n",
        "optim = torch.optim.Adam(model.parameters(), lr=0.001)\n",
        "PATH = \"/content/drive/MyDrive/\""
      ],
      "execution_count": null,
      "outputs": []
    },
    {
      "cell_type": "code",
      "metadata": {
        "id": "aj4VaarWc_hj"
      },
      "source": [
        "name = 'VAE_5' \n",
        "\n",
        "wandb.init(project=project, name=name);\n",
        "# wandb.watch(model);\n"
      ],
      "execution_count": null,
      "outputs": []
    },
    {
      "cell_type": "code",
      "metadata": {
        "id": "EX_4x_1-hzEG",
        "colab": {
          "base_uri": "https://localhost:8080/",
          "height": 103,
          "referenced_widgets": [
            "c4740cd1ba714c319c856f2740f5af86",
            "41c7f347fd4245a7a7abe8d186919db1",
            "08068696453e42749ea08bd15244ec06",
            "eb522a9459134f8db9a4ee364b370945",
            "34e059cd1b0c4cd08c108b36d4c13346",
            "dfc5ae9c57ac4795b17d2a15eff565db",
            "f41c88722cab47a1a15160075d587fd3",
            "34c4c1c513db4a8792101d2a40e64b49"
          ]
        },
        "outputId": "53f684b1-4b1f-40d9-c18a-d66a46c71a3d"
      },
      "source": [
        "from inception import InceptionV3\n",
        "\n",
        "fid_model = InceptionV3().to(device)"
      ],
      "execution_count": 8,
      "outputs": [
        {
          "output_type": "stream",
          "text": [
            "Downloading: \"https://github.com/mseitzer/pytorch-fid/releases/download/fid_weights/pt_inception-2015-12-05-6726825d.pth\" to /root/.cache/torch/hub/checkpoints/pt_inception-2015-12-05-6726825d.pth\n"
          ],
          "name": "stderr"
        },
        {
          "output_type": "display_data",
          "data": {
            "application/vnd.jupyter.widget-view+json": {
              "model_id": "c4740cd1ba714c319c856f2740f5af86",
              "version_minor": 0,
              "version_major": 2
            },
            "text/plain": [
              "HBox(children=(FloatProgress(value=0.0, max=95628359.0), HTML(value='')))"
            ]
          },
          "metadata": {
            "tags": []
          }
        },
        {
          "output_type": "stream",
          "text": [
            "\n"
          ],
          "name": "stdout"
        }
      ]
    },
    {
      "cell_type": "code",
      "metadata": {
        "id": "t-iK3T4RigH5"
      },
      "source": [
        "epochs = 10\n",
        "for i in range(1, epochs + 1):\n",
        "    process_epoch(i, dataloader, model, optim)"
      ],
      "execution_count": null,
      "outputs": []
    },
    {
      "cell_type": "code",
      "metadata": {
        "id": "Lbb0A0XfhzGU"
      },
      "source": [
        "plt.figure(figsize=(15,15))\n",
        "plt.imshow(make_grid([model.generate(val_set[i][0].unsqueeze(0).to(device))[0].cpu() for i in range(25)], nrow=5).permute(1,2,0) * 0.5 + 0.5)\n",
        "plt.show()"
      ],
      "execution_count": null,
      "outputs": []
    },
    {
      "cell_type": "markdown",
      "metadata": {
        "id": "rpqFa1kTul3Q"
      },
      "source": [
        "Ну да, заблюренные, но об этом и говорили"
      ]
    },
    {
      "cell_type": "markdown",
      "metadata": {
        "id": "VSZ1LryBvKnb"
      },
      "source": [
        "### Задача 2 (0.3 балла, но если не сделаете, за всю домашку max 0.1 за прошлый пункт):\n",
        "\n",
        "После этого попробуем обучить обычный NF на Celeba до нормального качества, померить FID и запомнить для будущего сравнения\n",
        "\n",
        "В качестве потока можно использовать все что вы хотите, Coupling/Autoregressive/Linear слои, любые трансформации. \n",
        "\n",
        "Можно использовать как и сверточные потоки, так и линейные (развернув селебу в один вектор)"
      ]
    },
    {
      "cell_type": "code",
      "metadata": {
        "id": "08wG0VVrXDSa"
      },
      "source": [
        "def calc_loss(log_p, logdet, image_size, n_bins):\n",
        "    # log_p = calc_log_p([z_list])\n",
        "    n_pixel = image_size * image_size * 3\n",
        "\n",
        "    loss = -np.log(n_bins) * n_pixel\n",
        "    loss = loss + logdet + log_p\n",
        "\n",
        "    return (\n",
        "        (-loss / (np.log(2) * n_pixel)).mean(),\n",
        "        (log_p / (np.log(2) * n_pixel)).mean(),\n",
        "        (logdet / (np.log(2) * n_pixel)).mean(),\n",
        "    )\n",
        "\n"
      ],
      "execution_count": 9,
      "outputs": []
    },
    {
      "cell_type": "code",
      "metadata": {
        "id": "pyNCxroU6FoX"
      },
      "source": [
        "# Simple function for wandb logging\n",
        "import random\n",
        "from calculate_fid import calculate_fid\n",
        "\n",
        "\n",
        "def generate_example_nf(model, loader):\n",
        "    model.eval()\n",
        "\n",
        "    rand_index = random.randrange(len(loader.dataset))\n",
        "    image, label = loader.dataset[rand_index]\n",
        "    \n",
        "    device = next(model.parameters()).device\n",
        "    image = image.to(device).unsqueeze(0)\n",
        "    \n",
        "    with torch.no_grad():\n",
        "        reconstructed_image = model.sample(1, 32)[0]\n",
        "    \n",
        "    reconstructed_image = torch.clamp(reconstructed_image, -1, 1)\n",
        "    reconstructed_image = ((reconstructed_image.permute(1, 2, 0) + 1) / 2).cpu().numpy()\n",
        "    \n",
        "\n",
        "    example = {\n",
        "               'reconstructed image': wandb.Image(reconstructed_image)\n",
        "               }\n",
        "    \n",
        "    return example\n",
        "\n",
        "def train_nf(image, model, optimizer):\n",
        "    model.train()\n",
        "    optimizer.zero_grad()\n",
        "\n",
        "    image = image * 255\n",
        "\n",
        "    if n_bits < 8:\n",
        "        image = torch.floor(image / 2 ** (8 - n_bits))\n",
        "\n",
        "    image = image / n_bins - 0.5\n",
        "\n",
        "    log_p, logdet, _ = model(image + torch.rand_like(image) / n_bins)\n",
        "\n",
        "    logdet = logdet.mean()\n",
        "    loss, log_p, log_det = calc_loss(log_p, logdet, size, n_bins)\n",
        "\n",
        "    loss.backward()\n",
        "    optimizer.step()\n",
        "\n",
        "    return loss, log_p, log_det\n",
        "\n",
        "\n",
        "def process_epoch_nf(epoch, loader, model, optimizer):\n",
        "    best_loss = 1000000.\n",
        "    losses = []\n",
        "    log_ps = []\n",
        "    log_dets = []\n",
        "    device = next(model.parameters()).device\n",
        "    for i, (image, _) in tqdm(enumerate(loader), desc=f\"trainloop: {epoch}\", leave=False):\n",
        "        image = image.to(device)\n",
        "        \n",
        "        loss, log_p, log_det = train_nf(image, model, optimizer)\n",
        "        losses.append(loss.item())\n",
        "        log_ps.append(log_p.item())\n",
        "        log_dets.append(log_det.item())\n",
        "        \n",
        "        if (i + 1) % 20 == 0:\n",
        "            example = generate_example_nf(model, loader)\n",
        "            l = np.mean(losses)\n",
        "\n",
        "                    \n",
        "            example.update({'loss': np.mean(losses) / len(image),\n",
        "                            'Log P': np.mean(log_ps) / len(image),\n",
        "                            'Log Det': np.mean(log_dets) / len(image)\n",
        "                            })\n",
        "            \n",
        "\n",
        "            losses = []\n",
        "            rec_losses = []\n",
        "            kld_losses = []\n",
        "\n",
        "            if (i + 1) % 400 == 0:\n",
        "                fid = calculate_fid(image, model, fid_model)\n",
        "\n",
        "                example.update({'FID': fid\n",
        "                                })\n",
        "\n",
        "            \n",
        "            wandb.log(example)\n",
        "\n"
      ],
      "execution_count": 10,
      "outputs": []
    },
    {
      "cell_type": "code",
      "metadata": {
        "id": "guebTRZ9YJSr"
      },
      "source": [
        "n_bits = 5\n",
        "n_bins = 2.0 ** n_bits"
      ],
      "execution_count": 11,
      "outputs": []
    },
    {
      "cell_type": "code",
      "metadata": {
        "colab": {
          "base_uri": "https://localhost:8080/",
          "height": 736,
          "referenced_widgets": [
            "054284e89d154297b2e92d6734dda205",
            "d9719fefb6b2473ea01256ee0bc60ea5",
            "7c8071a063754aaebf43cc883d2277e1",
            "208a42bc24d5454ca5a39ac71b5e6c8a",
            "11e950bcedc44fcb94ca324f087662db",
            "d90e5b43bbfb4434b8e4131bd1532f96",
            "5cc9f488fb1144c094b699049a653d17",
            "116a3f28d2df4137a4f3afe77898fdf7"
          ]
        },
        "id": "W4d33f5EQ8KA",
        "outputId": "a00c6198-92f5-45ca-a3a0-c131d98fb2ac"
      },
      "source": [
        "name = 'NF 32 big' \n",
        "\n",
        "wandb.init(project=project, name=name);\n",
        "# wandb.watch(model);\n"
      ],
      "execution_count": 24,
      "outputs": [
        {
          "output_type": "display_data",
          "data": {
            "text/html": [
              "Finishing last run (ID:3iu6qlr1) before initializing another..."
            ],
            "text/plain": [
              "<IPython.core.display.HTML object>"
            ]
          },
          "metadata": {
            "tags": []
          }
        },
        {
          "output_type": "display_data",
          "data": {
            "text/html": [
              "<br/>Waiting for W&B process to finish, PID 882<br/>Program ended successfully."
            ],
            "text/plain": [
              "<IPython.core.display.HTML object>"
            ]
          },
          "metadata": {
            "tags": []
          }
        },
        {
          "output_type": "display_data",
          "data": {
            "application/vnd.jupyter.widget-view+json": {
              "model_id": "054284e89d154297b2e92d6734dda205",
              "version_minor": 0,
              "version_major": 2
            },
            "text/plain": [
              "VBox(children=(Label(value=' 0.59MB of 0.59MB uploaded (0.00MB deduped)\\r'), FloatProgress(value=1.0, max=1.0)…"
            ]
          },
          "metadata": {
            "tags": []
          }
        },
        {
          "output_type": "display_data",
          "data": {
            "text/html": [
              "Find user logs for this run at: <code>/content/wandb/run-20210325_101358-3iu6qlr1/logs/debug.log</code>"
            ],
            "text/plain": [
              "<IPython.core.display.HTML object>"
            ]
          },
          "metadata": {
            "tags": []
          }
        },
        {
          "output_type": "display_data",
          "data": {
            "text/html": [
              "Find internal logs for this run at: <code>/content/wandb/run-20210325_101358-3iu6qlr1/logs/debug-internal.log</code>"
            ],
            "text/plain": [
              "<IPython.core.display.HTML object>"
            ]
          },
          "metadata": {
            "tags": []
          }
        },
        {
          "output_type": "display_data",
          "data": {
            "text/html": [
              "<h3>Run summary:</h3><br/><style>\n",
              "    table.wandb td:nth-child(1) { padding: 0 10px; text-align: right }\n",
              "    </style><table class=\"wandb\">\n",
              "<tr><td>loss</td><td>0.14962</td></tr><tr><td>Log P</td><td>-0.06323</td></tr><tr><td>Log Det</td><td>0.21207</td></tr><tr><td>_runtime</td><td>913</td></tr><tr><td>_timestamp</td><td>1616668155</td></tr><tr><td>_step</td><td>303</td></tr><tr><td>FID</td><td>224.61697</td></tr></table>"
            ],
            "text/plain": [
              "<IPython.core.display.HTML object>"
            ]
          },
          "metadata": {
            "tags": []
          }
        },
        {
          "output_type": "display_data",
          "data": {
            "text/html": [
              "<h3>Run history:</h3><br/><style>\n",
              "    table.wandb td:nth-child(1) { padding: 0 10px; text-align: right }\n",
              "    </style><table class=\"wandb\">\n",
              "<tr><td>loss</td><td>█▆▄▃▃▃▃▃▂▂▂▂▂▂▂▂▂▂▂▂▂▂▂▂▁▁▂▁▁▁▁▁▁▁▁▁▁▁▁▁</td></tr><tr><td>Log P</td><td>▁▂▃▄▅▅▅▆▆▆▆▆▆▇▇▇▇▇▇▇▇▇▇▇▇▇▇▇▇███████████</td></tr><tr><td>Log Det</td><td>▁▃▅▆▆▆▇▇▇▇▇▇▇▇▇▇▇▇██████████████████████</td></tr><tr><td>_runtime</td><td>▁▁▁▁▂▂▂▂▂▃▃▃▃▃▃▄▄▄▄▄▅▅▅▅▅▅▆▆▆▆▆▇▇▇▇▇▇███</td></tr><tr><td>_timestamp</td><td>▁▁▁▁▂▂▂▂▂▃▃▃▃▃▃▄▄▄▄▄▅▅▅▅▅▅▆▆▆▆▆▇▇▇▇▇▇███</td></tr><tr><td>_step</td><td>▁▁▁▁▂▂▂▂▂▃▃▃▃▃▃▄▄▄▄▄▅▅▅▅▅▅▆▆▆▆▆▇▇▇▇▇▇███</td></tr><tr><td>FID</td><td>█▇▇▇▆▅▄▃▅▄▃▁▂▂▁</td></tr></table><br/>"
            ],
            "text/plain": [
              "<IPython.core.display.HTML object>"
            ]
          },
          "metadata": {
            "tags": []
          }
        },
        {
          "output_type": "display_data",
          "data": {
            "text/html": [
              "Synced 4 W&B file(s), 304 media file(s), 0 artifact file(s) and 0 other file(s)"
            ],
            "text/plain": [
              "<IPython.core.display.HTML object>"
            ]
          },
          "metadata": {
            "tags": []
          }
        },
        {
          "output_type": "display_data",
          "data": {
            "text/html": [
              "\n",
              "                    <br/>Synced <strong style=\"color:#cdcd00\">NF 32 small</strong>: <a href=\"https://wandb.ai/treacker/GM%20HW3/runs/3iu6qlr1\" target=\"_blank\">https://wandb.ai/treacker/GM%20HW3/runs/3iu6qlr1</a><br/>\n",
              "                "
            ],
            "text/plain": [
              "<IPython.core.display.HTML object>"
            ]
          },
          "metadata": {
            "tags": []
          }
        },
        {
          "output_type": "display_data",
          "data": {
            "text/html": [
              "...Successfully finished last run (ID:3iu6qlr1). Initializing new run:<br/><br/>"
            ],
            "text/plain": [
              "<IPython.core.display.HTML object>"
            ]
          },
          "metadata": {
            "tags": []
          }
        },
        {
          "output_type": "display_data",
          "data": {
            "text/html": [
              "\n",
              "                Tracking run with wandb version 0.10.23<br/>\n",
              "                Syncing run <strong style=\"color:#cdcd00\">NF 32 big</strong> to <a href=\"https://wandb.ai\" target=\"_blank\">Weights & Biases</a> <a href=\"https://docs.wandb.com/integrations/jupyter.html\" target=\"_blank\">(Documentation)</a>.<br/>\n",
              "                Project page: <a href=\"https://wandb.ai/treacker/GM%20HW3\" target=\"_blank\">https://wandb.ai/treacker/GM%20HW3</a><br/>\n",
              "                Run page: <a href=\"https://wandb.ai/treacker/GM%20HW3/runs/1gsjlxbf\" target=\"_blank\">https://wandb.ai/treacker/GM%20HW3/runs/1gsjlxbf</a><br/>\n",
              "                Run data is saved locally in <code>/content/wandb/run-20210325_102925-1gsjlxbf</code><br/><br/>\n",
              "            "
            ],
            "text/plain": [
              "<IPython.core.display.HTML object>"
            ]
          },
          "metadata": {
            "tags": []
          }
        }
      ]
    },
    {
      "cell_type": "code",
      "metadata": {
        "id": "DaTVp2mkU4z6"
      },
      "source": [
        "from glow import Glow\n",
        "\n",
        "\n",
        "model = Glow(3, 16, 4).to(device)\n",
        "optim = torch.optim.Adam(model.parameters(), lr=0.0001)\n",
        "PATH = \"/content/drive/MyDrive/\""
      ],
      "execution_count": 25,
      "outputs": []
    },
    {
      "cell_type": "code",
      "metadata": {
        "id": "_wPYphf1Q8Mf"
      },
      "source": [
        "epochs = 10\n",
        "for i in range(1, epochs + 1):\n",
        "    process_epoch_nf(i, dataloader, model, optim)"
      ],
      "execution_count": null,
      "outputs": []
    },
    {
      "cell_type": "code",
      "metadata": {
        "id": "XuGngS02Q8O0"
      },
      "source": [
        "!nvidia-smi"
      ],
      "execution_count": null,
      "outputs": []
    },
    {
      "cell_type": "code",
      "metadata": {
        "id": "1kRInSU5Q8Qs"
      },
      "source": [
        "!"
      ],
      "execution_count": null,
      "outputs": []
    },
    {
      "cell_type": "markdown",
      "metadata": {
        "id": "PFsf4YlUvKnb"
      },
      "source": [
        "### Задача 3 (0.6 балла):\n",
        "\n",
        "Попробуйте повторить архитектуру VAPNEV из https://arxiv.org/pdf/1611.05209.pdf. Сравните качество (FID) между тремя разными моделями\n",
        "\n",
        "Здесь вы можете использовать VAE и NF из предыдущих пунктов, необходимо только понять как они совмещаются в оригинальной статье\n",
        "\n",
        "В отчете напишите, почему по вашему мнению такой подход будет лучше (или может быть хуже) чем обычный VAE?\n",
        "\n"
      ]
    },
    {
      "cell_type": "markdown",
      "metadata": {
        "id": "vZFLW70EvKnb"
      },
      "source": [
        "### Бонусная задача (0.2 балла):\n",
        "\n",
        "Найдите, реализуйте и сравните с предыдущими моделями еще один интересный способ совмещения NF и VAE"
      ]
    },
    {
      "cell_type": "markdown",
      "metadata": {
        "id": "EStX0kP6vKnc"
      },
      "source": [
        "##### Подсказки:\n",
        "\n",
        "1. Если вы учите на колабе или на наших машинках, вероятнее всего что обучение будет очень долгим на картинках 256х256. Никто не мешает уменьшить разрешение, главное чтобы было видно что генерация выучились и качество было ок\n",
        "\n",
        "2. Вы можете сделать ваш VAE/NF/VAPNEV условным, придумав как вы будете передавать в него conditional аттрибуты селебы\n",
        "\n",
        "3. Не забывайте про аугментации\n",
        "\n",
        "\n"
      ]
    },
    {
      "cell_type": "code",
      "metadata": {
        "id": "yTvmMAfsvKnc"
      },
      "source": [
        ""
      ],
      "execution_count": null,
      "outputs": []
    }
  ]
}
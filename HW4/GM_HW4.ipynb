{
  "nbformat": 4,
  "nbformat_minor": 0,
  "metadata": {
    "colab": {
      "name": "GM-HW4.ipynb",
      "provenance": [],
      "collapsed_sections": []
    },
    "kernelspec": {
      "name": "python3",
      "display_name": "Python 3"
    },
    "language_info": {
      "name": "python"
    },
    "accelerator": "GPU",
    "widgets": {
      "application/vnd.jupyter.widget-state+json": {
        "50bc11756de84e8598d47704eb196b2d": {
          "model_module": "@jupyter-widgets/controls",
          "model_name": "HBoxModel",
          "state": {
            "_view_name": "HBoxView",
            "_dom_classes": [],
            "_model_name": "HBoxModel",
            "_view_module": "@jupyter-widgets/controls",
            "_model_module_version": "1.5.0",
            "_view_count": null,
            "_view_module_version": "1.5.0",
            "box_style": "",
            "layout": "IPY_MODEL_1877f9bd693a466ca89432f82c25f1e7",
            "_model_module": "@jupyter-widgets/controls",
            "children": [
              "IPY_MODEL_44aeb87e12784b339f1d56a0ee36501a",
              "IPY_MODEL_3762bec6ebea4757849a0a5376d577d4"
            ]
          }
        },
        "1877f9bd693a466ca89432f82c25f1e7": {
          "model_module": "@jupyter-widgets/base",
          "model_name": "LayoutModel",
          "state": {
            "_view_name": "LayoutView",
            "grid_template_rows": null,
            "right": null,
            "justify_content": null,
            "_view_module": "@jupyter-widgets/base",
            "overflow": null,
            "_model_module_version": "1.2.0",
            "_view_count": null,
            "flex_flow": null,
            "width": null,
            "min_width": null,
            "border": null,
            "align_items": null,
            "bottom": null,
            "_model_module": "@jupyter-widgets/base",
            "top": null,
            "grid_column": null,
            "overflow_y": null,
            "overflow_x": null,
            "grid_auto_flow": null,
            "grid_area": null,
            "grid_template_columns": null,
            "flex": null,
            "_model_name": "LayoutModel",
            "justify_items": null,
            "grid_row": null,
            "max_height": null,
            "align_content": null,
            "visibility": null,
            "align_self": null,
            "height": null,
            "min_height": null,
            "padding": null,
            "grid_auto_rows": null,
            "grid_gap": null,
            "max_width": null,
            "order": null,
            "_view_module_version": "1.2.0",
            "grid_template_areas": null,
            "object_position": null,
            "object_fit": null,
            "grid_auto_columns": null,
            "margin": null,
            "display": null,
            "left": null
          }
        },
        "44aeb87e12784b339f1d56a0ee36501a": {
          "model_module": "@jupyter-widgets/controls",
          "model_name": "FloatProgressModel",
          "state": {
            "_view_name": "ProgressView",
            "style": "IPY_MODEL_758f34256a2741d8a5dac65e0e6e3cc9",
            "_dom_classes": [],
            "description": "",
            "_model_name": "FloatProgressModel",
            "bar_style": "danger",
            "max": 1,
            "_view_module": "@jupyter-widgets/controls",
            "_model_module_version": "1.5.0",
            "value": 1,
            "_view_count": null,
            "_view_module_version": "1.5.0",
            "orientation": "horizontal",
            "min": 0,
            "description_tooltip": null,
            "_model_module": "@jupyter-widgets/controls",
            "layout": "IPY_MODEL_c43b1a6bc2e944059b7f2efc7ae82632"
          }
        },
        "3762bec6ebea4757849a0a5376d577d4": {
          "model_module": "@jupyter-widgets/controls",
          "model_name": "HTMLModel",
          "state": {
            "_view_name": "HTMLView",
            "style": "IPY_MODEL_4d344121d78f4dccb21c54a5f067dd91",
            "_dom_classes": [],
            "description": "",
            "_model_name": "HTMLModel",
            "placeholder": "​",
            "_view_module": "@jupyter-widgets/controls",
            "_model_module_version": "1.5.0",
            "value": " 157/? [01:08&lt;00:00,  2.31it/s]",
            "_view_count": null,
            "_view_module_version": "1.5.0",
            "description_tooltip": null,
            "_model_module": "@jupyter-widgets/controls",
            "layout": "IPY_MODEL_5c123f97df66447d94083b10590280fa"
          }
        },
        "758f34256a2741d8a5dac65e0e6e3cc9": {
          "model_module": "@jupyter-widgets/controls",
          "model_name": "ProgressStyleModel",
          "state": {
            "_view_name": "StyleView",
            "_model_name": "ProgressStyleModel",
            "description_width": "initial",
            "_view_module": "@jupyter-widgets/base",
            "_model_module_version": "1.5.0",
            "_view_count": null,
            "_view_module_version": "1.2.0",
            "bar_color": null,
            "_model_module": "@jupyter-widgets/controls"
          }
        },
        "c43b1a6bc2e944059b7f2efc7ae82632": {
          "model_module": "@jupyter-widgets/base",
          "model_name": "LayoutModel",
          "state": {
            "_view_name": "LayoutView",
            "grid_template_rows": null,
            "right": null,
            "justify_content": null,
            "_view_module": "@jupyter-widgets/base",
            "overflow": null,
            "_model_module_version": "1.2.0",
            "_view_count": null,
            "flex_flow": null,
            "width": null,
            "min_width": null,
            "border": null,
            "align_items": null,
            "bottom": null,
            "_model_module": "@jupyter-widgets/base",
            "top": null,
            "grid_column": null,
            "overflow_y": null,
            "overflow_x": null,
            "grid_auto_flow": null,
            "grid_area": null,
            "grid_template_columns": null,
            "flex": null,
            "_model_name": "LayoutModel",
            "justify_items": null,
            "grid_row": null,
            "max_height": null,
            "align_content": null,
            "visibility": null,
            "align_self": null,
            "height": null,
            "min_height": null,
            "padding": null,
            "grid_auto_rows": null,
            "grid_gap": null,
            "max_width": null,
            "order": null,
            "_view_module_version": "1.2.0",
            "grid_template_areas": null,
            "object_position": null,
            "object_fit": null,
            "grid_auto_columns": null,
            "margin": null,
            "display": null,
            "left": null
          }
        },
        "4d344121d78f4dccb21c54a5f067dd91": {
          "model_module": "@jupyter-widgets/controls",
          "model_name": "DescriptionStyleModel",
          "state": {
            "_view_name": "StyleView",
            "_model_name": "DescriptionStyleModel",
            "description_width": "",
            "_view_module": "@jupyter-widgets/base",
            "_model_module_version": "1.5.0",
            "_view_count": null,
            "_view_module_version": "1.2.0",
            "_model_module": "@jupyter-widgets/controls"
          }
        },
        "5c123f97df66447d94083b10590280fa": {
          "model_module": "@jupyter-widgets/base",
          "model_name": "LayoutModel",
          "state": {
            "_view_name": "LayoutView",
            "grid_template_rows": null,
            "right": null,
            "justify_content": null,
            "_view_module": "@jupyter-widgets/base",
            "overflow": null,
            "_model_module_version": "1.2.0",
            "_view_count": null,
            "flex_flow": null,
            "width": null,
            "min_width": null,
            "border": null,
            "align_items": null,
            "bottom": null,
            "_model_module": "@jupyter-widgets/base",
            "top": null,
            "grid_column": null,
            "overflow_y": null,
            "overflow_x": null,
            "grid_auto_flow": null,
            "grid_area": null,
            "grid_template_columns": null,
            "flex": null,
            "_model_name": "LayoutModel",
            "justify_items": null,
            "grid_row": null,
            "max_height": null,
            "align_content": null,
            "visibility": null,
            "align_self": null,
            "height": null,
            "min_height": null,
            "padding": null,
            "grid_auto_rows": null,
            "grid_gap": null,
            "max_width": null,
            "order": null,
            "_view_module_version": "1.2.0",
            "grid_template_areas": null,
            "object_position": null,
            "object_fit": null,
            "grid_auto_columns": null,
            "margin": null,
            "display": null,
            "left": null
          }
        },
        "b9687b44a964486881506e64dab07eb1": {
          "model_module": "@jupyter-widgets/controls",
          "model_name": "HBoxModel",
          "state": {
            "_view_name": "HBoxView",
            "_dom_classes": [],
            "_model_name": "HBoxModel",
            "_view_module": "@jupyter-widgets/controls",
            "_model_module_version": "1.5.0",
            "_view_count": null,
            "_view_module_version": "1.5.0",
            "box_style": "",
            "layout": "IPY_MODEL_0d0997ae75cf48f183e6d5d95541e2af",
            "_model_module": "@jupyter-widgets/controls",
            "children": [
              "IPY_MODEL_1add7097d15f4aa7b93669cba4ee3794",
              "IPY_MODEL_86b63ab7fe924780a29e080c3007a374"
            ]
          }
        },
        "0d0997ae75cf48f183e6d5d95541e2af": {
          "model_module": "@jupyter-widgets/base",
          "model_name": "LayoutModel",
          "state": {
            "_view_name": "LayoutView",
            "grid_template_rows": null,
            "right": null,
            "justify_content": null,
            "_view_module": "@jupyter-widgets/base",
            "overflow": null,
            "_model_module_version": "1.2.0",
            "_view_count": null,
            "flex_flow": null,
            "width": null,
            "min_width": null,
            "border": null,
            "align_items": null,
            "bottom": null,
            "_model_module": "@jupyter-widgets/base",
            "top": null,
            "grid_column": null,
            "overflow_y": null,
            "overflow_x": null,
            "grid_auto_flow": null,
            "grid_area": null,
            "grid_template_columns": null,
            "flex": null,
            "_model_name": "LayoutModel",
            "justify_items": null,
            "grid_row": null,
            "max_height": null,
            "align_content": null,
            "visibility": null,
            "align_self": null,
            "height": null,
            "min_height": null,
            "padding": null,
            "grid_auto_rows": null,
            "grid_gap": null,
            "max_width": null,
            "order": null,
            "_view_module_version": "1.2.0",
            "grid_template_areas": null,
            "object_position": null,
            "object_fit": null,
            "grid_auto_columns": null,
            "margin": null,
            "display": null,
            "left": null
          }
        },
        "1add7097d15f4aa7b93669cba4ee3794": {
          "model_module": "@jupyter-widgets/controls",
          "model_name": "FloatProgressModel",
          "state": {
            "_view_name": "ProgressView",
            "style": "IPY_MODEL_3a3ece9b705242b698427b43c0be4abc",
            "_dom_classes": [],
            "description": "",
            "_model_name": "FloatProgressModel",
            "bar_style": "danger",
            "max": 1,
            "_view_module": "@jupyter-widgets/controls",
            "_model_module_version": "1.5.0",
            "value": 1,
            "_view_count": null,
            "_view_module_version": "1.5.0",
            "orientation": "horizontal",
            "min": 0,
            "description_tooltip": null,
            "_model_module": "@jupyter-widgets/controls",
            "layout": "IPY_MODEL_28dc5310919246a3aba46d9aedc824e5"
          }
        },
        "86b63ab7fe924780a29e080c3007a374": {
          "model_module": "@jupyter-widgets/controls",
          "model_name": "HTMLModel",
          "state": {
            "_view_name": "HTMLView",
            "style": "IPY_MODEL_aa64453bc4e747818a03b98efef9f41e",
            "_dom_classes": [],
            "description": "",
            "_model_name": "HTMLModel",
            "placeholder": "​",
            "_view_module": "@jupyter-widgets/controls",
            "_model_module_version": "1.5.0",
            "value": " 157/? [01:08&lt;00:00,  2.31it/s]",
            "_view_count": null,
            "_view_module_version": "1.5.0",
            "description_tooltip": null,
            "_model_module": "@jupyter-widgets/controls",
            "layout": "IPY_MODEL_8bda42bf78c44bb4908a4ee48087f931"
          }
        },
        "3a3ece9b705242b698427b43c0be4abc": {
          "model_module": "@jupyter-widgets/controls",
          "model_name": "ProgressStyleModel",
          "state": {
            "_view_name": "StyleView",
            "_model_name": "ProgressStyleModel",
            "description_width": "initial",
            "_view_module": "@jupyter-widgets/base",
            "_model_module_version": "1.5.0",
            "_view_count": null,
            "_view_module_version": "1.2.0",
            "bar_color": null,
            "_model_module": "@jupyter-widgets/controls"
          }
        },
        "28dc5310919246a3aba46d9aedc824e5": {
          "model_module": "@jupyter-widgets/base",
          "model_name": "LayoutModel",
          "state": {
            "_view_name": "LayoutView",
            "grid_template_rows": null,
            "right": null,
            "justify_content": null,
            "_view_module": "@jupyter-widgets/base",
            "overflow": null,
            "_model_module_version": "1.2.0",
            "_view_count": null,
            "flex_flow": null,
            "width": null,
            "min_width": null,
            "border": null,
            "align_items": null,
            "bottom": null,
            "_model_module": "@jupyter-widgets/base",
            "top": null,
            "grid_column": null,
            "overflow_y": null,
            "overflow_x": null,
            "grid_auto_flow": null,
            "grid_area": null,
            "grid_template_columns": null,
            "flex": null,
            "_model_name": "LayoutModel",
            "justify_items": null,
            "grid_row": null,
            "max_height": null,
            "align_content": null,
            "visibility": null,
            "align_self": null,
            "height": null,
            "min_height": null,
            "padding": null,
            "grid_auto_rows": null,
            "grid_gap": null,
            "max_width": null,
            "order": null,
            "_view_module_version": "1.2.0",
            "grid_template_areas": null,
            "object_position": null,
            "object_fit": null,
            "grid_auto_columns": null,
            "margin": null,
            "display": null,
            "left": null
          }
        },
        "aa64453bc4e747818a03b98efef9f41e": {
          "model_module": "@jupyter-widgets/controls",
          "model_name": "DescriptionStyleModel",
          "state": {
            "_view_name": "StyleView",
            "_model_name": "DescriptionStyleModel",
            "description_width": "",
            "_view_module": "@jupyter-widgets/base",
            "_model_module_version": "1.5.0",
            "_view_count": null,
            "_view_module_version": "1.2.0",
            "_model_module": "@jupyter-widgets/controls"
          }
        },
        "8bda42bf78c44bb4908a4ee48087f931": {
          "model_module": "@jupyter-widgets/base",
          "model_name": "LayoutModel",
          "state": {
            "_view_name": "LayoutView",
            "grid_template_rows": null,
            "right": null,
            "justify_content": null,
            "_view_module": "@jupyter-widgets/base",
            "overflow": null,
            "_model_module_version": "1.2.0",
            "_view_count": null,
            "flex_flow": null,
            "width": null,
            "min_width": null,
            "border": null,
            "align_items": null,
            "bottom": null,
            "_model_module": "@jupyter-widgets/base",
            "top": null,
            "grid_column": null,
            "overflow_y": null,
            "overflow_x": null,
            "grid_auto_flow": null,
            "grid_area": null,
            "grid_template_columns": null,
            "flex": null,
            "_model_name": "LayoutModel",
            "justify_items": null,
            "grid_row": null,
            "max_height": null,
            "align_content": null,
            "visibility": null,
            "align_self": null,
            "height": null,
            "min_height": null,
            "padding": null,
            "grid_auto_rows": null,
            "grid_gap": null,
            "max_width": null,
            "order": null,
            "_view_module_version": "1.2.0",
            "grid_template_areas": null,
            "object_position": null,
            "object_fit": null,
            "grid_auto_columns": null,
            "margin": null,
            "display": null,
            "left": null
          }
        },
        "11089e1a43d84b5a80f5d0bb2483d1ab": {
          "model_module": "@jupyter-widgets/controls",
          "model_name": "HBoxModel",
          "state": {
            "_view_name": "HBoxView",
            "_dom_classes": [],
            "_model_name": "HBoxModel",
            "_view_module": "@jupyter-widgets/controls",
            "_model_module_version": "1.5.0",
            "_view_count": null,
            "_view_module_version": "1.5.0",
            "box_style": "",
            "layout": "IPY_MODEL_0f39a18ce8fc4555bf8828de599ffc0a",
            "_model_module": "@jupyter-widgets/controls",
            "children": [
              "IPY_MODEL_90f6f30dee994859a32e9ad400382bde",
              "IPY_MODEL_1c22d0e6a6904be7abec6c10452232f4"
            ]
          }
        },
        "0f39a18ce8fc4555bf8828de599ffc0a": {
          "model_module": "@jupyter-widgets/base",
          "model_name": "LayoutModel",
          "state": {
            "_view_name": "LayoutView",
            "grid_template_rows": null,
            "right": null,
            "justify_content": null,
            "_view_module": "@jupyter-widgets/base",
            "overflow": null,
            "_model_module_version": "1.2.0",
            "_view_count": null,
            "flex_flow": null,
            "width": null,
            "min_width": null,
            "border": null,
            "align_items": null,
            "bottom": null,
            "_model_module": "@jupyter-widgets/base",
            "top": null,
            "grid_column": null,
            "overflow_y": null,
            "overflow_x": null,
            "grid_auto_flow": null,
            "grid_area": null,
            "grid_template_columns": null,
            "flex": null,
            "_model_name": "LayoutModel",
            "justify_items": null,
            "grid_row": null,
            "max_height": null,
            "align_content": null,
            "visibility": null,
            "align_self": null,
            "height": null,
            "min_height": null,
            "padding": null,
            "grid_auto_rows": null,
            "grid_gap": null,
            "max_width": null,
            "order": null,
            "_view_module_version": "1.2.0",
            "grid_template_areas": null,
            "object_position": null,
            "object_fit": null,
            "grid_auto_columns": null,
            "margin": null,
            "display": null,
            "left": null
          }
        },
        "90f6f30dee994859a32e9ad400382bde": {
          "model_module": "@jupyter-widgets/controls",
          "model_name": "FloatProgressModel",
          "state": {
            "_view_name": "ProgressView",
            "style": "IPY_MODEL_9c28aee07dc44fe0b71b97fb9fc82f18",
            "_dom_classes": [],
            "description": "",
            "_model_name": "FloatProgressModel",
            "bar_style": "danger",
            "max": 1,
            "_view_module": "@jupyter-widgets/controls",
            "_model_module_version": "1.5.0",
            "value": 1,
            "_view_count": null,
            "_view_module_version": "1.5.0",
            "orientation": "horizontal",
            "min": 0,
            "description_tooltip": null,
            "_model_module": "@jupyter-widgets/controls",
            "layout": "IPY_MODEL_157717fc20f64a8989559f80e28722f4"
          }
        },
        "1c22d0e6a6904be7abec6c10452232f4": {
          "model_module": "@jupyter-widgets/controls",
          "model_name": "HTMLModel",
          "state": {
            "_view_name": "HTMLView",
            "style": "IPY_MODEL_b2ce015682d2405dbe91a7a508c97ea4",
            "_dom_classes": [],
            "description": "",
            "_model_name": "HTMLModel",
            "placeholder": "​",
            "_view_module": "@jupyter-widgets/controls",
            "_model_module_version": "1.5.0",
            "value": " 157/? [00:57&lt;00:00,  2.74it/s]",
            "_view_count": null,
            "_view_module_version": "1.5.0",
            "description_tooltip": null,
            "_model_module": "@jupyter-widgets/controls",
            "layout": "IPY_MODEL_8cfd595a42634bd6b3ab4383f5afcbd2"
          }
        },
        "9c28aee07dc44fe0b71b97fb9fc82f18": {
          "model_module": "@jupyter-widgets/controls",
          "model_name": "ProgressStyleModel",
          "state": {
            "_view_name": "StyleView",
            "_model_name": "ProgressStyleModel",
            "description_width": "initial",
            "_view_module": "@jupyter-widgets/base",
            "_model_module_version": "1.5.0",
            "_view_count": null,
            "_view_module_version": "1.2.0",
            "bar_color": null,
            "_model_module": "@jupyter-widgets/controls"
          }
        },
        "157717fc20f64a8989559f80e28722f4": {
          "model_module": "@jupyter-widgets/base",
          "model_name": "LayoutModel",
          "state": {
            "_view_name": "LayoutView",
            "grid_template_rows": null,
            "right": null,
            "justify_content": null,
            "_view_module": "@jupyter-widgets/base",
            "overflow": null,
            "_model_module_version": "1.2.0",
            "_view_count": null,
            "flex_flow": null,
            "width": null,
            "min_width": null,
            "border": null,
            "align_items": null,
            "bottom": null,
            "_model_module": "@jupyter-widgets/base",
            "top": null,
            "grid_column": null,
            "overflow_y": null,
            "overflow_x": null,
            "grid_auto_flow": null,
            "grid_area": null,
            "grid_template_columns": null,
            "flex": null,
            "_model_name": "LayoutModel",
            "justify_items": null,
            "grid_row": null,
            "max_height": null,
            "align_content": null,
            "visibility": null,
            "align_self": null,
            "height": null,
            "min_height": null,
            "padding": null,
            "grid_auto_rows": null,
            "grid_gap": null,
            "max_width": null,
            "order": null,
            "_view_module_version": "1.2.0",
            "grid_template_areas": null,
            "object_position": null,
            "object_fit": null,
            "grid_auto_columns": null,
            "margin": null,
            "display": null,
            "left": null
          }
        },
        "b2ce015682d2405dbe91a7a508c97ea4": {
          "model_module": "@jupyter-widgets/controls",
          "model_name": "DescriptionStyleModel",
          "state": {
            "_view_name": "StyleView",
            "_model_name": "DescriptionStyleModel",
            "description_width": "",
            "_view_module": "@jupyter-widgets/base",
            "_model_module_version": "1.5.0",
            "_view_count": null,
            "_view_module_version": "1.2.0",
            "_model_module": "@jupyter-widgets/controls"
          }
        },
        "8cfd595a42634bd6b3ab4383f5afcbd2": {
          "model_module": "@jupyter-widgets/base",
          "model_name": "LayoutModel",
          "state": {
            "_view_name": "LayoutView",
            "grid_template_rows": null,
            "right": null,
            "justify_content": null,
            "_view_module": "@jupyter-widgets/base",
            "overflow": null,
            "_model_module_version": "1.2.0",
            "_view_count": null,
            "flex_flow": null,
            "width": null,
            "min_width": null,
            "border": null,
            "align_items": null,
            "bottom": null,
            "_model_module": "@jupyter-widgets/base",
            "top": null,
            "grid_column": null,
            "overflow_y": null,
            "overflow_x": null,
            "grid_auto_flow": null,
            "grid_area": null,
            "grid_template_columns": null,
            "flex": null,
            "_model_name": "LayoutModel",
            "justify_items": null,
            "grid_row": null,
            "max_height": null,
            "align_content": null,
            "visibility": null,
            "align_self": null,
            "height": null,
            "min_height": null,
            "padding": null,
            "grid_auto_rows": null,
            "grid_gap": null,
            "max_width": null,
            "order": null,
            "_view_module_version": "1.2.0",
            "grid_template_areas": null,
            "object_position": null,
            "object_fit": null,
            "grid_auto_columns": null,
            "margin": null,
            "display": null,
            "left": null
          }
        },
        "7ea193829730454ea311096fe9632ac9": {
          "model_module": "@jupyter-widgets/controls",
          "model_name": "HBoxModel",
          "state": {
            "_view_name": "HBoxView",
            "_dom_classes": [],
            "_model_name": "HBoxModel",
            "_view_module": "@jupyter-widgets/controls",
            "_model_module_version": "1.5.0",
            "_view_count": null,
            "_view_module_version": "1.5.0",
            "box_style": "",
            "layout": "IPY_MODEL_03ae942183f64d72b40d294275103e62",
            "_model_module": "@jupyter-widgets/controls",
            "children": [
              "IPY_MODEL_e0a0f5b26313454d8e5787502193c939",
              "IPY_MODEL_b6f2f9f77d504bf696daccca5aac9114"
            ]
          }
        },
        "03ae942183f64d72b40d294275103e62": {
          "model_module": "@jupyter-widgets/base",
          "model_name": "LayoutModel",
          "state": {
            "_view_name": "LayoutView",
            "grid_template_rows": null,
            "right": null,
            "justify_content": null,
            "_view_module": "@jupyter-widgets/base",
            "overflow": null,
            "_model_module_version": "1.2.0",
            "_view_count": null,
            "flex_flow": null,
            "width": null,
            "min_width": null,
            "border": null,
            "align_items": null,
            "bottom": null,
            "_model_module": "@jupyter-widgets/base",
            "top": null,
            "grid_column": null,
            "overflow_y": null,
            "overflow_x": null,
            "grid_auto_flow": null,
            "grid_area": null,
            "grid_template_columns": null,
            "flex": null,
            "_model_name": "LayoutModel",
            "justify_items": null,
            "grid_row": null,
            "max_height": null,
            "align_content": null,
            "visibility": null,
            "align_self": null,
            "height": null,
            "min_height": null,
            "padding": null,
            "grid_auto_rows": null,
            "grid_gap": null,
            "max_width": null,
            "order": null,
            "_view_module_version": "1.2.0",
            "grid_template_areas": null,
            "object_position": null,
            "object_fit": null,
            "grid_auto_columns": null,
            "margin": null,
            "display": null,
            "left": null
          }
        },
        "e0a0f5b26313454d8e5787502193c939": {
          "model_module": "@jupyter-widgets/controls",
          "model_name": "FloatProgressModel",
          "state": {
            "_view_name": "ProgressView",
            "style": "IPY_MODEL_90caf3a7dc724429927769793ffc8199",
            "_dom_classes": [],
            "description": "",
            "_model_name": "FloatProgressModel",
            "bar_style": "danger",
            "max": 1,
            "_view_module": "@jupyter-widgets/controls",
            "_model_module_version": "1.5.0",
            "value": 1,
            "_view_count": null,
            "_view_module_version": "1.5.0",
            "orientation": "horizontal",
            "min": 0,
            "description_tooltip": null,
            "_model_module": "@jupyter-widgets/controls",
            "layout": "IPY_MODEL_0d1082ae177e4a948714b52fbb898c5c"
          }
        },
        "b6f2f9f77d504bf696daccca5aac9114": {
          "model_module": "@jupyter-widgets/controls",
          "model_name": "HTMLModel",
          "state": {
            "_view_name": "HTMLView",
            "style": "IPY_MODEL_0ad51a6306fb401b86e7ddce0c1631b4",
            "_dom_classes": [],
            "description": "",
            "_model_name": "HTMLModel",
            "placeholder": "​",
            "_view_module": "@jupyter-widgets/controls",
            "_model_module_version": "1.5.0",
            "value": " 467/? [00:55&lt;00:00,  8.28it/s]",
            "_view_count": null,
            "_view_module_version": "1.5.0",
            "description_tooltip": null,
            "_model_module": "@jupyter-widgets/controls",
            "layout": "IPY_MODEL_0b9cdd7a77d84f1fbf65baf1f79325fc"
          }
        },
        "90caf3a7dc724429927769793ffc8199": {
          "model_module": "@jupyter-widgets/controls",
          "model_name": "ProgressStyleModel",
          "state": {
            "_view_name": "StyleView",
            "_model_name": "ProgressStyleModel",
            "description_width": "initial",
            "_view_module": "@jupyter-widgets/base",
            "_model_module_version": "1.5.0",
            "_view_count": null,
            "_view_module_version": "1.2.0",
            "bar_color": null,
            "_model_module": "@jupyter-widgets/controls"
          }
        },
        "0d1082ae177e4a948714b52fbb898c5c": {
          "model_module": "@jupyter-widgets/base",
          "model_name": "LayoutModel",
          "state": {
            "_view_name": "LayoutView",
            "grid_template_rows": null,
            "right": null,
            "justify_content": null,
            "_view_module": "@jupyter-widgets/base",
            "overflow": null,
            "_model_module_version": "1.2.0",
            "_view_count": null,
            "flex_flow": null,
            "width": null,
            "min_width": null,
            "border": null,
            "align_items": null,
            "bottom": null,
            "_model_module": "@jupyter-widgets/base",
            "top": null,
            "grid_column": null,
            "overflow_y": null,
            "overflow_x": null,
            "grid_auto_flow": null,
            "grid_area": null,
            "grid_template_columns": null,
            "flex": null,
            "_model_name": "LayoutModel",
            "justify_items": null,
            "grid_row": null,
            "max_height": null,
            "align_content": null,
            "visibility": null,
            "align_self": null,
            "height": null,
            "min_height": null,
            "padding": null,
            "grid_auto_rows": null,
            "grid_gap": null,
            "max_width": null,
            "order": null,
            "_view_module_version": "1.2.0",
            "grid_template_areas": null,
            "object_position": null,
            "object_fit": null,
            "grid_auto_columns": null,
            "margin": null,
            "display": null,
            "left": null
          }
        },
        "0ad51a6306fb401b86e7ddce0c1631b4": {
          "model_module": "@jupyter-widgets/controls",
          "model_name": "DescriptionStyleModel",
          "state": {
            "_view_name": "StyleView",
            "_model_name": "DescriptionStyleModel",
            "description_width": "",
            "_view_module": "@jupyter-widgets/base",
            "_model_module_version": "1.5.0",
            "_view_count": null,
            "_view_module_version": "1.2.0",
            "_model_module": "@jupyter-widgets/controls"
          }
        },
        "0b9cdd7a77d84f1fbf65baf1f79325fc": {
          "model_module": "@jupyter-widgets/base",
          "model_name": "LayoutModel",
          "state": {
            "_view_name": "LayoutView",
            "grid_template_rows": null,
            "right": null,
            "justify_content": null,
            "_view_module": "@jupyter-widgets/base",
            "overflow": null,
            "_model_module_version": "1.2.0",
            "_view_count": null,
            "flex_flow": null,
            "width": null,
            "min_width": null,
            "border": null,
            "align_items": null,
            "bottom": null,
            "_model_module": "@jupyter-widgets/base",
            "top": null,
            "grid_column": null,
            "overflow_y": null,
            "overflow_x": null,
            "grid_auto_flow": null,
            "grid_area": null,
            "grid_template_columns": null,
            "flex": null,
            "_model_name": "LayoutModel",
            "justify_items": null,
            "grid_row": null,
            "max_height": null,
            "align_content": null,
            "visibility": null,
            "align_self": null,
            "height": null,
            "min_height": null,
            "padding": null,
            "grid_auto_rows": null,
            "grid_gap": null,
            "max_width": null,
            "order": null,
            "_view_module_version": "1.2.0",
            "grid_template_areas": null,
            "object_position": null,
            "object_fit": null,
            "grid_auto_columns": null,
            "margin": null,
            "display": null,
            "left": null
          }
        },
        "bc0f36bff4644aedbbe6e4f2ee040a9f": {
          "model_module": "@jupyter-widgets/controls",
          "model_name": "HBoxModel",
          "state": {
            "_view_name": "HBoxView",
            "_dom_classes": [],
            "_model_name": "HBoxModel",
            "_view_module": "@jupyter-widgets/controls",
            "_model_module_version": "1.5.0",
            "_view_count": null,
            "_view_module_version": "1.5.0",
            "box_style": "",
            "layout": "IPY_MODEL_d188d65944e441118fc9afed1d90ac2a",
            "_model_module": "@jupyter-widgets/controls",
            "children": [
              "IPY_MODEL_930c55b31c4b44cbafd80305cac12b7f",
              "IPY_MODEL_fad7578c9cd244f78b965331a2013463"
            ]
          }
        },
        "d188d65944e441118fc9afed1d90ac2a": {
          "model_module": "@jupyter-widgets/base",
          "model_name": "LayoutModel",
          "state": {
            "_view_name": "LayoutView",
            "grid_template_rows": null,
            "right": null,
            "justify_content": null,
            "_view_module": "@jupyter-widgets/base",
            "overflow": null,
            "_model_module_version": "1.2.0",
            "_view_count": null,
            "flex_flow": null,
            "width": null,
            "min_width": null,
            "border": null,
            "align_items": null,
            "bottom": null,
            "_model_module": "@jupyter-widgets/base",
            "top": null,
            "grid_column": null,
            "overflow_y": null,
            "overflow_x": null,
            "grid_auto_flow": null,
            "grid_area": null,
            "grid_template_columns": null,
            "flex": null,
            "_model_name": "LayoutModel",
            "justify_items": null,
            "grid_row": null,
            "max_height": null,
            "align_content": null,
            "visibility": null,
            "align_self": null,
            "height": null,
            "min_height": null,
            "padding": null,
            "grid_auto_rows": null,
            "grid_gap": null,
            "max_width": null,
            "order": null,
            "_view_module_version": "1.2.0",
            "grid_template_areas": null,
            "object_position": null,
            "object_fit": null,
            "grid_auto_columns": null,
            "margin": null,
            "display": null,
            "left": null
          }
        },
        "930c55b31c4b44cbafd80305cac12b7f": {
          "model_module": "@jupyter-widgets/controls",
          "model_name": "FloatProgressModel",
          "state": {
            "_view_name": "ProgressView",
            "style": "IPY_MODEL_6333e6c2114d43cf9144071cce01270b",
            "_dom_classes": [],
            "description": "",
            "_model_name": "FloatProgressModel",
            "bar_style": "danger",
            "max": 1,
            "_view_module": "@jupyter-widgets/controls",
            "_model_module_version": "1.5.0",
            "value": 1,
            "_view_count": null,
            "_view_module_version": "1.5.0",
            "orientation": "horizontal",
            "min": 0,
            "description_tooltip": null,
            "_model_module": "@jupyter-widgets/controls",
            "layout": "IPY_MODEL_0d417085126c4dd894a85a678ae4f68e"
          }
        },
        "fad7578c9cd244f78b965331a2013463": {
          "model_module": "@jupyter-widgets/controls",
          "model_name": "HTMLModel",
          "state": {
            "_view_name": "HTMLView",
            "style": "IPY_MODEL_01c0461372514cfd8bc3dc2f2d6c7d23",
            "_dom_classes": [],
            "description": "",
            "_model_name": "HTMLModel",
            "placeholder": "​",
            "_view_module": "@jupyter-widgets/controls",
            "_model_module_version": "1.5.0",
            "value": " 254/? [00:29&lt;00:00,  8.46it/s]",
            "_view_count": null,
            "_view_module_version": "1.5.0",
            "description_tooltip": null,
            "_model_module": "@jupyter-widgets/controls",
            "layout": "IPY_MODEL_7065cb03304f4720bc81b48a61219d49"
          }
        },
        "6333e6c2114d43cf9144071cce01270b": {
          "model_module": "@jupyter-widgets/controls",
          "model_name": "ProgressStyleModel",
          "state": {
            "_view_name": "StyleView",
            "_model_name": "ProgressStyleModel",
            "description_width": "initial",
            "_view_module": "@jupyter-widgets/base",
            "_model_module_version": "1.5.0",
            "_view_count": null,
            "_view_module_version": "1.2.0",
            "bar_color": null,
            "_model_module": "@jupyter-widgets/controls"
          }
        },
        "0d417085126c4dd894a85a678ae4f68e": {
          "model_module": "@jupyter-widgets/base",
          "model_name": "LayoutModel",
          "state": {
            "_view_name": "LayoutView",
            "grid_template_rows": null,
            "right": null,
            "justify_content": null,
            "_view_module": "@jupyter-widgets/base",
            "overflow": null,
            "_model_module_version": "1.2.0",
            "_view_count": null,
            "flex_flow": null,
            "width": null,
            "min_width": null,
            "border": null,
            "align_items": null,
            "bottom": null,
            "_model_module": "@jupyter-widgets/base",
            "top": null,
            "grid_column": null,
            "overflow_y": null,
            "overflow_x": null,
            "grid_auto_flow": null,
            "grid_area": null,
            "grid_template_columns": null,
            "flex": null,
            "_model_name": "LayoutModel",
            "justify_items": null,
            "grid_row": null,
            "max_height": null,
            "align_content": null,
            "visibility": null,
            "align_self": null,
            "height": null,
            "min_height": null,
            "padding": null,
            "grid_auto_rows": null,
            "grid_gap": null,
            "max_width": null,
            "order": null,
            "_view_module_version": "1.2.0",
            "grid_template_areas": null,
            "object_position": null,
            "object_fit": null,
            "grid_auto_columns": null,
            "margin": null,
            "display": null,
            "left": null
          }
        },
        "01c0461372514cfd8bc3dc2f2d6c7d23": {
          "model_module": "@jupyter-widgets/controls",
          "model_name": "DescriptionStyleModel",
          "state": {
            "_view_name": "StyleView",
            "_model_name": "DescriptionStyleModel",
            "description_width": "",
            "_view_module": "@jupyter-widgets/base",
            "_model_module_version": "1.5.0",
            "_view_count": null,
            "_view_module_version": "1.2.0",
            "_model_module": "@jupyter-widgets/controls"
          }
        },
        "7065cb03304f4720bc81b48a61219d49": {
          "model_module": "@jupyter-widgets/base",
          "model_name": "LayoutModel",
          "state": {
            "_view_name": "LayoutView",
            "grid_template_rows": null,
            "right": null,
            "justify_content": null,
            "_view_module": "@jupyter-widgets/base",
            "overflow": null,
            "_model_module_version": "1.2.0",
            "_view_count": null,
            "flex_flow": null,
            "width": null,
            "min_width": null,
            "border": null,
            "align_items": null,
            "bottom": null,
            "_model_module": "@jupyter-widgets/base",
            "top": null,
            "grid_column": null,
            "overflow_y": null,
            "overflow_x": null,
            "grid_auto_flow": null,
            "grid_area": null,
            "grid_template_columns": null,
            "flex": null,
            "_model_name": "LayoutModel",
            "justify_items": null,
            "grid_row": null,
            "max_height": null,
            "align_content": null,
            "visibility": null,
            "align_self": null,
            "height": null,
            "min_height": null,
            "padding": null,
            "grid_auto_rows": null,
            "grid_gap": null,
            "max_width": null,
            "order": null,
            "_view_module_version": "1.2.0",
            "grid_template_areas": null,
            "object_position": null,
            "object_fit": null,
            "grid_auto_columns": null,
            "margin": null,
            "display": null,
            "left": null
          }
        }
      }
    }
  },
  "cells": [
    {
      "cell_type": "code",
      "metadata": {
        "id": "5mipdkt310QO"
      },
      "source": [
        ""
      ],
      "execution_count": null,
      "outputs": []
    },
    {
      "cell_type": "markdown",
      "metadata": {
        "id": "x6BY8DCF1638"
      },
      "source": [
        "В данной домашке предлагается воспроизвести результаты статьи https://arxiv.org/abs/2006.08545, изучающей поведение NF на Out-Of-Distribution (OOD) данных (т.е. тех данных, которые поток никогда не видел и которые находятся за пределом распределения обучающей выборки)\n"
      ]
    },
    {
      "cell_type": "markdown",
      "metadata": {
        "id": "A-BZBGk2166O"
      },
      "source": [
        "**(0.3 балла) Обучить Glow на CelebA, добиться нормального качества генерируемых картинок**\n"
      ]
    },
    {
      "cell_type": "code",
      "metadata": {
        "id": "eyk-Bs0O9x0A"
      },
      "source": [
        "import os\n",
        "\n",
        "import torch\n",
        "import torch.nn as nn\n",
        "\n",
        "import torchvision\n",
        "import torchvision.transforms as transforms\n",
        "from torchvision.utils import make_grid\n",
        "\n",
        "import numpy as np\n",
        "import matplotlib.pyplot as plt\n",
        "%matplotlib inline\n",
        "\n",
        "from PIL import Image\n",
        "\n",
        "from tqdm.notebook import tqdm as tqdm\n",
        "\n",
        "\n",
        "%load_ext autoreload\n",
        "\n",
        "%autoreload 2\n",
        "\n",
        "# ! pip install wandb"
      ],
      "execution_count": 1,
      "outputs": []
    },
    {
      "cell_type": "code",
      "metadata": {
        "colab": {
          "base_uri": "https://localhost:8080/"
        },
        "id": "Ec3aHu4Q9x2q",
        "outputId": "4eddc9e9-129b-4b5d-be52-ea55920a76f8"
      },
      "source": [
        "from google.colab import drive\n",
        "drive.mount('/content/drive')"
      ],
      "execution_count": 5,
      "outputs": [
        {
          "output_type": "stream",
          "text": [
            "Mounted at /content/drive\n"
          ],
          "name": "stdout"
        }
      ]
    },
    {
      "cell_type": "code",
      "metadata": {
        "colab": {
          "base_uri": "https://localhost:8080/"
        },
        "id": "M-RRi-zu9x5F",
        "outputId": "00b3bce6-3099-4553-e120-f363c28fcd9b"
      },
      "source": [
        "! gdown --id 1F96x4LDbsTZGMMq81fZr7aduJCe8N95O\n",
        "\n",
        "import zipfile\n",
        "\n",
        "path_to_zip = \"/content/celeba.zip\"\n",
        "\n",
        "\n",
        "with zipfile.ZipFile(path_to_zip, 'r') as file:\n",
        "    file.extractall(path='/content')"
      ],
      "execution_count": 6,
      "outputs": [
        {
          "output_type": "stream",
          "text": [
            "Downloading...\n",
            "From: https://drive.google.com/uc?id=1F96x4LDbsTZGMMq81fZr7aduJCe8N95O\n",
            "To: /content/celeba.zip\n",
            "2.73GB [00:47, 57.9MB/s]\n"
          ],
          "name": "stdout"
        }
      ]
    },
    {
      "cell_type": "code",
      "metadata": {
        "id": "66fYR4lt9x7O"
      },
      "source": [
        "device = 'cuda' if torch.cuda.is_available() else 'cpu'\n",
        "\n",
        "size = 32\n",
        "celeba_transforms = transforms.Compose([\n",
        "    transforms.Resize((size, size)),\n",
        "    transforms.ToTensor(),\n",
        "    transforms.Normalize([0.5, 0.5, 0.5], [0.5, 0.5, 0.5])\n",
        "])\n",
        "    \n",
        "\n"
      ],
      "execution_count": 2,
      "outputs": []
    },
    {
      "cell_type": "code",
      "metadata": {
        "id": "lMYuBQOm9x9Z"
      },
      "source": [
        "\n",
        "celeba = torchvision.datasets.CelebA('/content/celeba',\n",
        "                                           transform=celeba_transforms,\n",
        "                                           download=False)\n",
        "\n",
        "n = len(celeba)\n",
        "t = int(n * 0.8)\n",
        "train_set, val_set = torch.utils.data.random_split(celeba, [t, n - t])\n",
        "\n"
      ],
      "execution_count": 3,
      "outputs": []
    },
    {
      "cell_type": "code",
      "metadata": {
        "id": "BW2xu2cHG3bl"
      },
      "source": [
        "b_s = 16\n",
        "\n",
        "dataloader = torch.utils.data.DataLoader(train_set, b_s, shuffle=True)\n",
        "val_dataloader = torch.utils.data.DataLoader(val_set, 1, shuffle=False)"
      ],
      "execution_count": 53,
      "outputs": []
    },
    {
      "cell_type": "code",
      "metadata": {
        "id": "B7bSePALwhNn"
      },
      "source": [
        "from inception import InceptionV3\n",
        "\n",
        "fid_model = InceptionV3().to(device)"
      ],
      "execution_count": 54,
      "outputs": []
    },
    {
      "cell_type": "code",
      "metadata": {
        "id": "DmIuTMRi9x_-"
      },
      "source": [
        "import wandb\n",
        "\n",
        "project = 'GM HW4'"
      ],
      "execution_count": 55,
      "outputs": []
    },
    {
      "cell_type": "code",
      "metadata": {
        "id": "ahhuMzaaHlnl"
      },
      "source": [
        "def calc_loss(log_p, logdet, image_size, n_bins):\n",
        "    # log_p = calc_log_p([z_list])\n",
        "    n_pixel = image_size * image_size * 3\n",
        "\n",
        "    loss = -np.log(n_bins) * n_pixel\n",
        "    loss = loss + logdet + log_p\n",
        "\n",
        "    return (\n",
        "        (-loss / (np.log(2) * n_pixel)).mean(),\n",
        "        (log_p / (np.log(2) * n_pixel)).mean(),\n",
        "        (logdet / (np.log(2) * n_pixel)).mean(),\n",
        "    )\n",
        "\n"
      ],
      "execution_count": 56,
      "outputs": []
    },
    {
      "cell_type": "code",
      "metadata": {
        "id": "_Rh3HPhr9yCO"
      },
      "source": [
        "# Simple function for wandb logging\n",
        "import random\n",
        "from calculate_fid import calculate_fid\n",
        "\n",
        "\n",
        "def generate_example(model, loader):\n",
        "    model.eval()\n",
        "\n",
        "    rand_index = random.randrange(len(loader.dataset))\n",
        "    image, label = loader.dataset[rand_index]\n",
        "    \n",
        "    device = next(model.parameters()).device\n",
        "    image = image.to(device).unsqueeze(0)\n",
        "    \n",
        "    with torch.no_grad():\n",
        "        reconstructed_image = model.sample(1, 32)[0]\n",
        "    \n",
        "    reconstructed_image = torch.clamp(reconstructed_image, -1, 1)\n",
        "    reconstructed_image = ((reconstructed_image.permute(1, 2, 0) + 1) / 2).cpu().numpy()\n",
        "    \n",
        "\n",
        "    example = {\n",
        "               'reconstructed image': wandb.Image(reconstructed_image)\n",
        "               }\n",
        "    \n",
        "    return example\n",
        "\n",
        "def train(image, model, optimizer):\n",
        "    model.train()\n",
        "    optimizer.zero_grad()\n",
        "\n",
        "    image = image * 255\n",
        "\n",
        "    if n_bits < 8:\n",
        "        image = torch.floor(image / 2 ** (8 - n_bits))\n",
        "\n",
        "    image = image / n_bins - 0.5\n",
        "\n",
        "    log_p, logdet, _ = model(image + torch.rand_like(image) / n_bins)\n",
        "\n",
        "    logdet = logdet.mean()\n",
        "    loss, log_p, log_det = calc_loss(log_p, logdet, size, n_bins)\n",
        "\n",
        "    loss.backward()\n",
        "    optimizer.step()\n",
        "\n",
        "    return loss, log_p, log_det\n",
        "\n",
        "\n",
        "def process_epoch(epoch, loader, model, optimizer):\n",
        "    best_loss = 1000000.\n",
        "    losses = []\n",
        "    log_ps = []\n",
        "    log_dets = []\n",
        "    device = next(model.parameters()).device\n",
        "    for i, (image, _) in tqdm(enumerate(loader), desc=f\"trainloop: {epoch}\", leave=False):\n",
        "        image = image.to(device)\n",
        "        \n",
        "        loss, log_p, log_det = train(image, model, optimizer)\n",
        "        losses.append(loss.item())\n",
        "        log_ps.append(log_p.item())\n",
        "        log_dets.append(log_det.item())\n",
        "        \n",
        "        if (i + 1) % 20 == 0:\n",
        "            example = generate_example(model, loader)\n",
        "            l = np.mean(losses)\n",
        "\n",
        "                    \n",
        "            example.update({'loss': np.mean(losses) / len(image),\n",
        "                            'Log P': np.mean(log_ps) / len(image),\n",
        "                            'Log Det': np.mean(log_dets) / len(image)\n",
        "                            })\n",
        "            \n",
        "\n",
        "            losses = []\n",
        "            log_ps = []\n",
        "            log_dets = []\n",
        "            # if (i + 1) % 400 == 0:\n",
        "            #     fid = calculate_fid(image, model, fid_model)\n",
        "\n",
        "            #     example.update({'FID': fid\n",
        "            #                     })\n",
        "\n",
        "            \n",
        "            wandb.log(example)\n",
        "\n",
        "            if (l < best_loss):\n",
        "                best_loss = l\n",
        "                torch.save(model.state_dict(), PATH + name + '.pt')\n"
      ],
      "execution_count": 61,
      "outputs": []
    },
    {
      "cell_type": "code",
      "metadata": {
        "id": "ZCFdQMtgJmZI"
      },
      "source": [
        "n_bits = 5\n",
        "n_bins = 2.0 ** n_bits"
      ],
      "execution_count": 62,
      "outputs": []
    },
    {
      "cell_type": "code",
      "metadata": {
        "id": "shvz_eM-97_j"
      },
      "source": [
        "from glow import Glow\n",
        "\n",
        "name = 'Glow'\n",
        "\n",
        "model = Glow(3, 16, 4).to(device)\n",
        "optim = torch.optim.Adam(model.parameters(), lr=0.0001)\n",
        "PATH = \"/content/drive/MyDrive/\""
      ],
      "execution_count": 4,
      "outputs": []
    },
    {
      "cell_type": "code",
      "metadata": {
        "id": "FynCkswd9HMG"
      },
      "source": [
        "load = True\n",
        "\n",
        "if load:\n",
        "    model.load_state_dict(torch.load(PATH + name + '.pt'))"
      ],
      "execution_count": 5,
      "outputs": []
    },
    {
      "cell_type": "code",
      "metadata": {
        "colab": {
          "base_uri": "https://localhost:8080/",
          "height": 153
        },
        "id": "mo82EzoEvwW7",
        "outputId": "bfb13523-bc1e-4a1b-9c41-9d421a45d890"
      },
      "source": [
        " \n",
        "\n",
        "wandb.init(project=project, name=name);\n",
        "wandb.watch(model);\n"
      ],
      "execution_count": 60,
      "outputs": [
        {
          "output_type": "display_data",
          "data": {
            "application/javascript": [
              "\n",
              "        window._wandbApiKey = new Promise((resolve, reject) => {\n",
              "            function loadScript(url) {\n",
              "            return new Promise(function(resolve, reject) {\n",
              "                let newScript = document.createElement(\"script\");\n",
              "                newScript.onerror = reject;\n",
              "                newScript.onload = resolve;\n",
              "                document.body.appendChild(newScript);\n",
              "                newScript.src = url;\n",
              "            });\n",
              "            }\n",
              "            loadScript(\"https://cdn.jsdelivr.net/npm/postmate/build/postmate.min.js\").then(() => {\n",
              "            const iframe = document.createElement('iframe')\n",
              "            iframe.style.cssText = \"width:0;height:0;border:none\"\n",
              "            document.body.appendChild(iframe)\n",
              "            const handshake = new Postmate({\n",
              "                container: iframe,\n",
              "                url: 'https://wandb.ai/authorize'\n",
              "            });\n",
              "            const timeout = setTimeout(() => reject(\"Couldn't auto authenticate\"), 5000)\n",
              "            handshake.then(function(child) {\n",
              "                child.on('authorize', data => {\n",
              "                    clearTimeout(timeout)\n",
              "                    resolve(data)\n",
              "                });\n",
              "            });\n",
              "            })\n",
              "        });\n",
              "    "
            ],
            "text/plain": [
              "<IPython.core.display.Javascript object>"
            ]
          },
          "metadata": {
            "tags": []
          }
        },
        {
          "output_type": "stream",
          "text": [
            "\u001b[34m\u001b[1mwandb\u001b[0m: Appending key for api.wandb.ai to your netrc file: /root/.netrc\n"
          ],
          "name": "stderr"
        },
        {
          "output_type": "display_data",
          "data": {
            "text/html": [
              "\n",
              "                Tracking run with wandb version 0.10.23<br/>\n",
              "                Syncing run <strong style=\"color:#cdcd00\">Glow</strong> to <a href=\"https://wandb.ai\" target=\"_blank\">Weights & Biases</a> <a href=\"https://docs.wandb.com/integrations/jupyter.html\" target=\"_blank\">(Documentation)</a>.<br/>\n",
              "                Project page: <a href=\"https://wandb.ai/treacker/GM%20HW4\" target=\"_blank\">https://wandb.ai/treacker/GM%20HW4</a><br/>\n",
              "                Run page: <a href=\"https://wandb.ai/treacker/GM%20HW4/runs/6itu8vsq\" target=\"_blank\">https://wandb.ai/treacker/GM%20HW4/runs/6itu8vsq</a><br/>\n",
              "                Run data is saved locally in <code>/content/wandb/run-20210325_111857-6itu8vsq</code><br/><br/>\n",
              "            "
            ],
            "text/plain": [
              "<IPython.core.display.HTML object>"
            ]
          },
          "metadata": {
            "tags": []
          }
        }
      ]
    },
    {
      "cell_type": "code",
      "metadata": {
        "id": "L2Ochydc9Fx9"
      },
      "source": [
        ""
      ],
      "execution_count": 62,
      "outputs": []
    },
    {
      "cell_type": "code",
      "metadata": {
        "id": "dgzHnn75vwZP"
      },
      "source": [
        "epochs = 10\n",
        "for i in range(1, epochs + 1):\n",
        "    process_epoch(i, dataloader, model, optim)"
      ],
      "execution_count": null,
      "outputs": []
    },
    {
      "cell_type": "markdown",
      "metadata": {
        "id": "saES1dJv1681"
      },
      "source": [
        "\n",
        "**(0.4 балла) Построить гистограмму лайклихудов для обученного в предыдущем пункте потока для данных CelebA (train), CelebA (test) и SVHN (OOD)**"
      ]
    },
    {
      "cell_type": "code",
      "metadata": {
        "id": "-gaxHaLaOnhE"
      },
      "source": [
        "def get_probs(loader, model, max_t=1e4 + 16):\n",
        "    model.eval()\n",
        "\n",
        "    log_ps = torch.zeros(int(max_t))\n",
        "    device = next(model.parameters()).device\n",
        "    with torch.no_grad():\n",
        "      for i, (image, _) in tqdm(enumerate(loader)):\n",
        "          image = image.to(device)\n",
        "          \n",
        "\n",
        "          log_p, _, _ = model(image)\n",
        "          log_p = log_p.detach().cpu()\n",
        "          try:\n",
        "              log_ps[i * b_s:(i + 1) * b_s] = log_p\n",
        "          except Exception as e:\n",
        "              a = 0\n",
        "\n",
        "          if (i * len(image) >= max_t):\n",
        "              break\n",
        "\n",
        "    return log_ps"
      ],
      "execution_count": 30,
      "outputs": []
    },
    {
      "cell_type": "code",
      "metadata": {
        "id": "i_WC-Gni_jwA"
      },
      "source": [
        "b_s = 64\n",
        "\n",
        "dataloader = torch.utils.data.DataLoader(train_set, b_s, shuffle=False)\n",
        "val_dataloader = torch.utils.data.DataLoader(val_set, b_s, shuffle=False)"
      ],
      "execution_count": 32,
      "outputs": []
    },
    {
      "cell_type": "code",
      "metadata": {
        "colab": {
          "base_uri": "https://localhost:8080/"
        },
        "id": "HkhOf8ISoGQn",
        "outputId": "0f99afd7-dda2-44a4-f9f8-0de7e7f1d2f6"
      },
      "source": [
        "svhn = torchvision.datasets.SVHN('/SVHN/', transform=celeba_transforms,\n",
        "                                           download=True)\n",
        "\n",
        "svhn_dataloader = torch.utils.data.DataLoader(svhn, b_s, shuffle=False)"
      ],
      "execution_count": 33,
      "outputs": [
        {
          "output_type": "stream",
          "text": [
            "Using downloaded and verified file: /SVHN/train_32x32.mat\n"
          ],
          "name": "stdout"
        }
      ]
    },
    {
      "cell_type": "code",
      "metadata": {
        "colab": {
          "base_uri": "https://localhost:8080/",
          "height": 81,
          "referenced_widgets": [
            "50bc11756de84e8598d47704eb196b2d",
            "1877f9bd693a466ca89432f82c25f1e7",
            "44aeb87e12784b339f1d56a0ee36501a",
            "3762bec6ebea4757849a0a5376d577d4",
            "758f34256a2741d8a5dac65e0e6e3cc9",
            "c43b1a6bc2e944059b7f2efc7ae82632",
            "4d344121d78f4dccb21c54a5f067dd91",
            "5c123f97df66447d94083b10590280fa",
            "b9687b44a964486881506e64dab07eb1",
            "0d0997ae75cf48f183e6d5d95541e2af",
            "1add7097d15f4aa7b93669cba4ee3794",
            "86b63ab7fe924780a29e080c3007a374",
            "3a3ece9b705242b698427b43c0be4abc",
            "28dc5310919246a3aba46d9aedc824e5",
            "aa64453bc4e747818a03b98efef9f41e",
            "8bda42bf78c44bb4908a4ee48087f931"
          ]
        },
        "id": "VBgC1myu9vSP",
        "outputId": "b6add578-cb11-4a90-a1b6-2a0e09b92814"
      },
      "source": [
        "log_ps_train = get_probs(dataloader, model, max_t=1e4)\n",
        "log_ps_test = get_probs(val_dataloader, model, max_t=1e4)"
      ],
      "execution_count": 34,
      "outputs": [
        {
          "output_type": "display_data",
          "data": {
            "application/vnd.jupyter.widget-view+json": {
              "model_id": "50bc11756de84e8598d47704eb196b2d",
              "version_minor": 0,
              "version_major": 2
            },
            "text/plain": [
              "HBox(children=(FloatProgress(value=1.0, bar_style='info', max=1.0), HTML(value='')))"
            ]
          },
          "metadata": {
            "tags": []
          }
        },
        {
          "output_type": "display_data",
          "data": {
            "application/vnd.jupyter.widget-view+json": {
              "model_id": "b9687b44a964486881506e64dab07eb1",
              "version_minor": 0,
              "version_major": 2
            },
            "text/plain": [
              "HBox(children=(FloatProgress(value=1.0, bar_style='info', max=1.0), HTML(value='')))"
            ]
          },
          "metadata": {
            "tags": []
          }
        }
      ]
    },
    {
      "cell_type": "code",
      "metadata": {
        "colab": {
          "base_uri": "https://localhost:8080/",
          "height": 49,
          "referenced_widgets": [
            "11089e1a43d84b5a80f5d0bb2483d1ab",
            "0f39a18ce8fc4555bf8828de599ffc0a",
            "90f6f30dee994859a32e9ad400382bde",
            "1c22d0e6a6904be7abec6c10452232f4",
            "9c28aee07dc44fe0b71b97fb9fc82f18",
            "157717fc20f64a8989559f80e28722f4",
            "b2ce015682d2405dbe91a7a508c97ea4",
            "8cfd595a42634bd6b3ab4383f5afcbd2"
          ]
        },
        "id": "oLpLHw_HmItx",
        "outputId": "95b3cc15-13cb-4944-967d-037892fbee02"
      },
      "source": [
        "log_ps_svhn = get_probs(svhn_dataloader, model, max_t=1e4)"
      ],
      "execution_count": 35,
      "outputs": [
        {
          "output_type": "display_data",
          "data": {
            "application/vnd.jupyter.widget-view+json": {
              "model_id": "11089e1a43d84b5a80f5d0bb2483d1ab",
              "version_minor": 0,
              "version_major": 2
            },
            "text/plain": [
              "HBox(children=(FloatProgress(value=1.0, bar_style='info', max=1.0), HTML(value='')))"
            ]
          },
          "metadata": {
            "tags": []
          }
        }
      ]
    },
    {
      "cell_type": "code",
      "metadata": {
        "id": "qU-4EGFsF-kC"
      },
      "source": [
        "log_ps_train = log_ps_train[:-16]\n",
        "log_ps_test = log_ps_test[:-16]\n",
        "log_ps_svhn = log_ps_svhn[:-16]"
      ],
      "execution_count": 36,
      "outputs": []
    },
    {
      "cell_type": "code",
      "metadata": {
        "colab": {
          "base_uri": "https://localhost:8080/",
          "height": 609
        },
        "id": "lQcvCMrAAPoE",
        "outputId": "2acc89da-87df-442a-b7ae-3f854846102c"
      },
      "source": [
        "plt.figure(figsize=(20, 10))\n",
        "plt.hist(log_ps_train, bins=50, label='Train')\n",
        "plt.hist(log_ps_test, bins=50, label='Test')\n",
        "plt.hist(log_ps_svhn, bins=50, label='SVHN (OOD)')\n",
        "plt.legend(fontsize=19)\n",
        "plt.show()\n",
        "plt.savefig('Distributions.pdf')"
      ],
      "execution_count": 38,
      "outputs": [
        {
          "output_type": "display_data",
          "data": {
            "image/png": "[encoded data removed]",
            "text/plain": [
              "<Figure size 1440x720 with 1 Axes>"
            ]
          },
          "metadata": {
            "tags": [],
            "needs_background": "light"
          }
        },
        {
          "output_type": "display_data",
          "data": {
            "text/plain": [
              "<Figure size 432x288 with 0 Axes>"
            ]
          },
          "metadata": {
            "tags": []
          }
        }
      ]
    },
    {
      "cell_type": "markdown",
      "metadata": {
        "id": "XAOiGkx_16_K"
      },
      "source": [
        "Замечание: из каждого датасета достаточно взять только некоторую долю объектов, достаточную для построения гистограммы"
      ]
    },
    {
      "cell_type": "markdown",
      "metadata": {
        "id": "M4nwDj1s2Qrr"
      },
      "source": [
        "**(0.3 балла) Сравнить картинки из OOD (SVHN) с наибольшим предсказанным лайклихудом с картинками обучающего датасета (CelebA) с наименьшим лайклихудом. Что можно сказать об этих картинках? Почему лайклихуд первых может быть выше?**"
      ]
    },
    {
      "cell_type": "code",
      "metadata": {
        "id": "7iCNrChx2Fcr"
      },
      "source": [
        "def get_celeba_pics(loader, model, threshold=5000, n_pics=10):\n",
        "    model.eval()\n",
        "\n",
        "    images = []\n",
        "    c = 0\n",
        "    device = next(model.parameters()).device\n",
        "    with torch.no_grad():\n",
        "      for i, (image, _) in tqdm(enumerate(loader)):\n",
        "          image = image.to(device)\n",
        "          \n",
        "\n",
        "          log_p, _, _ = model(image)\n",
        "          log_p = log_p.detach().cpu()\n",
        "          \n",
        "          if torch.abs(log_p) > threshold:\n",
        "              images.append(image[0].detach().cpu())\n",
        "              c += 1\n",
        "\n",
        "          if (c == n_pics):\n",
        "              break\n",
        "\n",
        "    return images\n",
        "\n",
        "\n",
        "def get_svhn_pics(loader, model, threshold=5000, n_pics=10):\n",
        "    model.eval()\n",
        "\n",
        "    images = []\n",
        "    c = 0\n",
        "    device = next(model.parameters()).device\n",
        "    with torch.no_grad():\n",
        "      for i, (image, _) in tqdm(enumerate(loader)):\n",
        "          image = image.to(device)\n",
        "          \n",
        "\n",
        "          log_p, _, _ = model(image)\n",
        "          log_p = log_p.detach().cpu()\n",
        "          \n",
        "          if torch.abs(log_p) < threshold:\n",
        "              images.append(image[0].detach().cpu())\n",
        "              c += 1\n",
        "\n",
        "          if (c == n_pics):\n",
        "              break\n",
        "\n",
        "    return images"
      ],
      "execution_count": 20,
      "outputs": []
    },
    {
      "cell_type": "code",
      "metadata": {
        "id": "dqjDb8A-pPk-"
      },
      "source": [
        "dataloader = torch.utils.data.DataLoader(train_set, 1, shuffle=False)\n",
        "svhn_dataloader = torch.utils.data.DataLoader(svhn, 1, shuffle=False)"
      ],
      "execution_count": 9,
      "outputs": []
    },
    {
      "cell_type": "code",
      "metadata": {
        "id": "CWCV9ASk2FfB",
        "colab": {
          "base_uri": "https://localhost:8080/",
          "height": 49,
          "referenced_widgets": [
            "7ea193829730454ea311096fe9632ac9",
            "03ae942183f64d72b40d294275103e62",
            "e0a0f5b26313454d8e5787502193c939",
            "b6f2f9f77d504bf696daccca5aac9114",
            "90caf3a7dc724429927769793ffc8199",
            "0d1082ae177e4a948714b52fbb898c5c",
            "0ad51a6306fb401b86e7ddce0c1631b4",
            "0b9cdd7a77d84f1fbf65baf1f79325fc"
          ]
        },
        "outputId": "ef094a92-9078-4abb-bed9-e05514e2e78d"
      },
      "source": [
        "celeba_pics = get_celeba_pics(dataloader, model, 6200, n_pics=10)"
      ],
      "execution_count": 21,
      "outputs": [
        {
          "output_type": "display_data",
          "data": {
            "application/vnd.jupyter.widget-view+json": {
              "model_id": "7ea193829730454ea311096fe9632ac9",
              "version_minor": 0,
              "version_major": 2
            },
            "text/plain": [
              "HBox(children=(FloatProgress(value=1.0, bar_style='info', max=1.0), HTML(value='')))"
            ]
          },
          "metadata": {
            "tags": []
          }
        }
      ]
    },
    {
      "cell_type": "code",
      "metadata": {
        "colab": {
          "base_uri": "https://localhost:8080/",
          "height": 49,
          "referenced_widgets": [
            "bc0f36bff4644aedbbe6e4f2ee040a9f",
            "d188d65944e441118fc9afed1d90ac2a",
            "930c55b31c4b44cbafd80305cac12b7f",
            "fad7578c9cd244f78b965331a2013463",
            "6333e6c2114d43cf9144071cce01270b",
            "0d417085126c4dd894a85a678ae4f68e",
            "01c0461372514cfd8bc3dc2f2d6c7d23",
            "7065cb03304f4720bc81b48a61219d49"
          ]
        },
        "id": "rhWMxReppI2X",
        "outputId": "b860bf32-588e-42af-96fa-4e5bbeae6696"
      },
      "source": [
        "svhn_pics = get_svhn_pics(svhn_dataloader, model, 4000, n_pics=10)"
      ],
      "execution_count": 22,
      "outputs": [
        {
          "output_type": "display_data",
          "data": {
            "application/vnd.jupyter.widget-view+json": {
              "model_id": "bc0f36bff4644aedbbe6e4f2ee040a9f",
              "version_minor": 0,
              "version_major": 2
            },
            "text/plain": [
              "HBox(children=(FloatProgress(value=1.0, bar_style='info', max=1.0), HTML(value='')))"
            ]
          },
          "metadata": {
            "tags": []
          }
        }
      ]
    },
    {
      "cell_type": "code",
      "metadata": {
        "colab": {
          "base_uri": "https://localhost:8080/",
          "height": 407
        },
        "id": "0RsgChPGpkcu",
        "outputId": "d2cc2f28-f5de-4bd1-e0f0-096bd05446e3"
      },
      "source": [
        "plt.figure(figsize=(15,15))\n",
        "plt.imshow(make_grid([celeba_pics[i] for i in range(10)], nrow=5).permute(1,2,0) * 0.5 + 0.5)\n",
        "plt.show()\n",
        "plt.savefig('celeba_worst.pdf')"
      ],
      "execution_count": 27,
      "outputs": [
        {
          "output_type": "display_data",
          "data": {
            "image/png": "[encoded data removed]",
            "text/plain": [
              "<Figure size 1080x1080 with 1 Axes>"
            ]
          },
          "metadata": {
            "tags": [],
            "needs_background": "light"
          }
        },
        {
          "output_type": "display_data",
          "data": {
            "text/plain": [
              "<Figure size 432x288 with 0 Axes>"
            ]
          },
          "metadata": {
            "tags": []
          }
        }
      ]
    },
    {
      "cell_type": "code",
      "metadata": {
        "colab": {
          "base_uri": "https://localhost:8080/",
          "height": 407
        },
        "id": "tYTi7iulq-Qo",
        "outputId": "3f401234-3d45-484d-911f-929b4c2386d8"
      },
      "source": [
        "plt.figure(figsize=(15,15))\n",
        "plt.imshow(make_grid([svhn_pics[i] for i in range(10)], nrow=5).permute(1,2,0) * 0.5 + 0.5)\n",
        "plt.show()\n",
        "plt.savefig('svhn_best.pdf')"
      ],
      "execution_count": 28,
      "outputs": [
        {
          "output_type": "display_data",
          "data": {
            "image/png": "[encoded data removed]",
            "text/plain": [
              "<Figure size 1080x1080 with 1 Axes>"
            ]
          },
          "metadata": {
            "tags": [],
            "needs_background": "light"
          }
        },
        {
          "output_type": "display_data",
          "data": {
            "text/plain": [
              "<Figure size 432x288 with 0 Axes>"
            ]
          },
          "metadata": {
            "tags": []
          }
        }
      ]
    },
    {
      "cell_type": "code",
      "metadata": {
        "id": "K3MxHaonrEpO"
      },
      "source": [
        ""
      ],
      "execution_count": null,
      "outputs": []
    }
  ]
}